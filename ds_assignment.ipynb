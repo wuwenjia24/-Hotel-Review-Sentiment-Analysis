{
  "nbformat": 4,
  "nbformat_minor": 0,
  "metadata": {
    "kernelspec": {
      "display_name": "Python 3",
      "language": "python",
      "name": "python3"
    },
    "language_info": {
      "codemirror_mode": {
        "name": "ipython",
        "version": 3
      },
      "file_extension": ".py",
      "mimetype": "text/x-python",
      "name": "python",
      "nbconvert_exporter": "python",
      "pygments_lexer": "ipython3",
      "version": "3.5.2"
    },
    "colab": {
      "name": "ds_assignment.ipynb",
      "provenance": [],
      "collapsed_sections": [
        "8ffdAXaz-HR8",
        "58cOKnRbsinw",
        "uQ0RtKS8soYt",
        "BcQ0NVKd21sl",
        "eFsRfLmD275s"
      ]
    }
  },
  "cells": [
    {
      "cell_type": "markdown",
      "metadata": {
        "id": "NHlmc-vA1mG_",
        "colab_type": "text"
      },
      "source": [
        "# Oops... Nothing Here..  So, you are on your own this time."
      ]
    },
    {
      "cell_type": "markdown",
      "metadata": {
        "id": "IuW5JdJqC5nu",
        "colab_type": "text"
      },
      "source": [
        "# Data "
      ]
    },
    {
      "cell_type": "code",
      "metadata": {
        "id": "3rlLEXArDM8z",
        "colab_type": "code",
        "colab": {}
      },
      "source": [
        "# !pip install wget\n",
        "# import wget"
      ],
      "execution_count": 0,
      "outputs": []
    },
    {
      "cell_type": "code",
      "metadata": {
        "id": "-dG3khHFCvZR",
        "colab_type": "code",
        "colab": {}
      },
      "source": [
        "# wget.download(\"https://github.com/MIE451-1513-2019/course-datasets/raw/master/reviews.zip\")\n",
        "# !unzip reviews.zip"
      ],
      "execution_count": 0,
      "outputs": []
    },
    {
      "cell_type": "code",
      "metadata": {
        "id": "lxVLHB9V1mHF",
        "colab_type": "code",
        "colab": {}
      },
      "source": [
        "# def submission():\n",
        "#     \"\"\"remove this function before submission\n",
        "#     \"\"\"\n",
        "#     assert False, \"I didn't submit assignment on time!\""
      ],
      "execution_count": 0,
      "outputs": []
    },
    {
      "cell_type": "code",
      "metadata": {
        "id": "V3O5jD2-1mHn",
        "colab_type": "code",
        "colab": {}
      },
      "source": [
        "# submission()"
      ],
      "execution_count": 0,
      "outputs": []
    },
    {
      "cell_type": "code",
      "metadata": {
        "id": "FWst46l3y3pO",
        "colab_type": "code",
        "outputId": "64bffaa7-067e-41c3-dc8a-b5a23456d7e0",
        "colab": {
          "base_uri": "https://localhost:8080/",
          "height": 54
        }
      },
      "source": [
        "import sys\n",
        "print(sys.version)"
      ],
      "execution_count": 0,
      "outputs": [
        {
          "output_type": "stream",
          "text": [
            "3.6.8 (default, Oct  7 2019, 12:59:55) \n",
            "[GCC 8.3.0]\n"
          ],
          "name": "stdout"
        }
      ]
    },
    {
      "cell_type": "code",
      "metadata": {
        "id": "eI5QE-jbzDYi",
        "colab_type": "code",
        "outputId": "a903591c-c985-44d4-cd00-2e48de46fa0a",
        "colab": {
          "base_uri": "https://localhost:8080/",
          "height": 163
        }
      },
      "source": [
        "!pip install twython"
      ],
      "execution_count": 0,
      "outputs": [
        {
          "output_type": "stream",
          "text": [
            "Requirement already satisfied: twython in /usr/local/lib/python3.6/dist-packages (3.7.0)\n",
            "Requirement already satisfied: requests>=2.1.0 in /usr/local/lib/python3.6/dist-packages (from twython) (2.21.0)\n",
            "Requirement already satisfied: requests-oauthlib>=0.4.0 in /usr/local/lib/python3.6/dist-packages (from twython) (1.3.0)\n",
            "Requirement already satisfied: certifi>=2017.4.17 in /usr/local/lib/python3.6/dist-packages (from requests>=2.1.0->twython) (2019.9.11)\n",
            "Requirement already satisfied: urllib3<1.25,>=1.21.1 in /usr/local/lib/python3.6/dist-packages (from requests>=2.1.0->twython) (1.24.3)\n",
            "Requirement already satisfied: chardet<3.1.0,>=3.0.2 in /usr/local/lib/python3.6/dist-packages (from requests>=2.1.0->twython) (3.0.4)\n",
            "Requirement already satisfied: idna<2.9,>=2.5 in /usr/local/lib/python3.6/dist-packages (from requests>=2.1.0->twython) (2.8)\n",
            "Requirement already satisfied: oauthlib>=3.0.0 in /usr/local/lib/python3.6/dist-packages (from requests-oauthlib>=0.4.0->twython) (3.1.0)\n"
          ],
          "name": "stdout"
        }
      ]
    },
    {
      "cell_type": "code",
      "metadata": {
        "id": "bwXsRRfmzG3P",
        "colab_type": "code",
        "outputId": "d4f10b2c-c95a-40e5-c371-77e125d26583",
        "colab": {
          "base_uri": "https://localhost:8080/",
          "height": 199
        }
      },
      "source": [
        "#Plot\n",
        "import matplotlib.pyplot as plt\n",
        "import seaborn as sns\n",
        "%matplotlib inline\n",
        "\n",
        "#Data Packages\n",
        "import math\n",
        "import pandas as pd\n",
        "import numpy as np\n",
        "\n",
        "#Progress bar\n",
        "from tqdm import tqdm\n",
        "\n",
        "#Counter\n",
        "from collections import Counter\n",
        "\n",
        "#Operation\n",
        "import operator\n",
        "\n",
        "#Natural Language Processing Packages\n",
        "import re\n",
        "import nltk\n",
        "\n",
        "## Download Resources\n",
        "nltk.download(\"vader_lexicon\")\n",
        "nltk.download(\"stopwords\")\n",
        "nltk.download(\"averaged_perceptron_tagger\")\n",
        "nltk.download(\"wordnet\")\n",
        "\n",
        "from nltk.sentiment import SentimentAnalyzer\n",
        "from nltk.sentiment.vader import SentimentIntensityAnalyzer\n",
        "from nltk.sentiment.util import *\n",
        "from nltk import tokenize\n",
        "from nltk.corpus import stopwords\n",
        "from nltk.tag import PerceptronTagger\n",
        "from nltk.data import find\n",
        "\n",
        "## Machine Learning\n",
        "import sklearn\n",
        "import sklearn.metrics as metrics"
      ],
      "execution_count": 0,
      "outputs": [
        {
          "output_type": "stream",
          "text": [
            "[nltk_data] Downloading package vader_lexicon to /root/nltk_data...\n",
            "[nltk_data]   Package vader_lexicon is already up-to-date!\n",
            "[nltk_data] Downloading package stopwords to /root/nltk_data...\n",
            "[nltk_data]   Package stopwords is already up-to-date!\n",
            "[nltk_data] Downloading package averaged_perceptron_tagger to\n",
            "[nltk_data]     /root/nltk_data...\n",
            "[nltk_data]   Package averaged_perceptron_tagger is already up-to-\n",
            "[nltk_data]       date!\n",
            "[nltk_data] Downloading package wordnet to /root/nltk_data...\n",
            "[nltk_data]   Package wordnet is already up-to-date!\n"
          ],
          "name": "stdout"
        }
      ]
    },
    {
      "cell_type": "code",
      "metadata": {
        "id": "VlmppG9pwpqY",
        "colab_type": "code",
        "colab": {}
      },
      "source": [
        "hotelDfRaw = pd.read_csv('reviews.csv', header = None)\n",
        "hotelDfRaw.columns=['filePath','hotelName','reviewColumn','ratingScore','groundTruth']"
      ],
      "execution_count": 0,
      "outputs": []
    },
    {
      "cell_type": "code",
      "metadata": {
        "id": "0EmbScA516JL",
        "colab_type": "code",
        "outputId": "183cf6e8-8c14-4ada-9f52-8c0fcc0d5ad6",
        "colab": {
          "base_uri": "https://localhost:8080/",
          "height": 407
        }
      },
      "source": [
        "hotelDfRaw"
      ],
      "execution_count": 0,
      "outputs": [
        {
          "output_type": "execute_result",
          "data": {
            "text/html": [
              "<div>\n",
              "<style scoped>\n",
              "    .dataframe tbody tr th:only-of-type {\n",
              "        vertical-align: middle;\n",
              "    }\n",
              "\n",
              "    .dataframe tbody tr th {\n",
              "        vertical-align: top;\n",
              "    }\n",
              "\n",
              "    .dataframe thead th {\n",
              "        text-align: right;\n",
              "    }\n",
              "</style>\n",
              "<table border=\"1\" class=\"dataframe\">\n",
              "  <thead>\n",
              "    <tr style=\"text-align: right;\">\n",
              "      <th></th>\n",
              "      <th>filePath</th>\n",
              "      <th>hotelName</th>\n",
              "      <th>reviewColumn</th>\n",
              "      <th>ratingScore</th>\n",
              "      <th>groundTruth</th>\n",
              "    </tr>\n",
              "  </thead>\n",
              "  <tbody>\n",
              "    <tr>\n",
              "      <th>0</th>\n",
              "      <td>data/ca/3956429/3949020/185992828.html</td>\n",
              "      <td>Woodland Gardens Bed and Breakfast</td>\n",
              "      <td>\"Such a treat to go to the Woodland Gardens B&amp;...</td>\n",
              "      <td>5</td>\n",
              "      <td>positive</td>\n",
              "    </tr>\n",
              "    <tr>\n",
              "      <th>1</th>\n",
              "      <td>data/ca/3956429/3949020/168112894.html</td>\n",
              "      <td>Woodland Gardens Bed and Breakfast</td>\n",
              "      <td>\"The first thing you nice when you pull into t...</td>\n",
              "      <td>5</td>\n",
              "      <td>positive</td>\n",
              "    </tr>\n",
              "    <tr>\n",
              "      <th>2</th>\n",
              "      <td>data/ca/3956429/3949020/609506248.html</td>\n",
              "      <td>Woodland Gardens Bed and Breakfast</td>\n",
              "      <td>\"My friend and I stayed at this B&amp;B last week....</td>\n",
              "      <td>5</td>\n",
              "      <td>positive</td>\n",
              "    </tr>\n",
              "    <tr>\n",
              "      <th>3</th>\n",
              "      <td>data/ca/3956429/3949020/609296519.html</td>\n",
              "      <td>Woodland Gardens Bed and Breakfast</td>\n",
              "      <td>\"What a surprise to find such a wonderful rela...</td>\n",
              "      <td>5</td>\n",
              "      <td>positive</td>\n",
              "    </tr>\n",
              "    <tr>\n",
              "      <th>4</th>\n",
              "      <td>data/ca/3956429/3949020/352236414.html</td>\n",
              "      <td>Woodland Gardens Bed and Breakfast</td>\n",
              "      <td>\"A group of us wanted to spend the family day ...</td>\n",
              "      <td>5</td>\n",
              "      <td>positive</td>\n",
              "    </tr>\n",
              "    <tr>\n",
              "      <th>...</th>\n",
              "      <td>...</td>\n",
              "      <td>...</td>\n",
              "      <td>...</td>\n",
              "      <td>...</td>\n",
              "      <td>...</td>\n",
              "    </tr>\n",
              "    <tr>\n",
              "      <th>2014</th>\n",
              "      <td>data/ca/796987/6210656/659526184.html</td>\n",
              "      <td>Road 121 Motel</td>\n",
              "      <td>\"I read the reviews which seemed cheep and che...</td>\n",
              "      <td>2</td>\n",
              "      <td>negative</td>\n",
              "    </tr>\n",
              "    <tr>\n",
              "      <th>2015</th>\n",
              "      <td>data/ca/796987/6210656/515696104.html</td>\n",
              "      <td>Road 121 Motel</td>\n",
              "      <td>\"Room was okay.  Bed was fairly comfortable.  ...</td>\n",
              "      <td>3</td>\n",
              "      <td>negative</td>\n",
              "    </tr>\n",
              "    <tr>\n",
              "      <th>2016</th>\n",
              "      <td>data/ca/796987/6210656/681638034.html</td>\n",
              "      <td>Road 121 Motel</td>\n",
              "      <td>\"ROOM #5\\n\\nThe Good - Fast, friendly service;...</td>\n",
              "      <td>1</td>\n",
              "      <td>negative</td>\n",
              "    </tr>\n",
              "    <tr>\n",
              "      <th>2017</th>\n",
              "      <td>data/ca/796987/6210656/288535737.html</td>\n",
              "      <td>Road 121 Motel</td>\n",
              "      <td>\"I would not recommend staying at this motel. ...</td>\n",
              "      <td>1</td>\n",
              "      <td>negative</td>\n",
              "    </tr>\n",
              "    <tr>\n",
              "      <th>2018</th>\n",
              "      <td>data/ca/796987/6210656/385900635.html</td>\n",
              "      <td>Road 121 Motel</td>\n",
              "      <td>\"Just a place to sleep should have stayed at t...</td>\n",
              "      <td>1</td>\n",
              "      <td>negative</td>\n",
              "    </tr>\n",
              "  </tbody>\n",
              "</table>\n",
              "<p>2019 rows × 5 columns</p>\n",
              "</div>"
            ],
            "text/plain": [
              "                                    filePath  ... groundTruth\n",
              "0     data/ca/3956429/3949020/185992828.html  ...    positive\n",
              "1     data/ca/3956429/3949020/168112894.html  ...    positive\n",
              "2     data/ca/3956429/3949020/609506248.html  ...    positive\n",
              "3     data/ca/3956429/3949020/609296519.html  ...    positive\n",
              "4     data/ca/3956429/3949020/352236414.html  ...    positive\n",
              "...                                      ...  ...         ...\n",
              "2014   data/ca/796987/6210656/659526184.html  ...    negative\n",
              "2015   data/ca/796987/6210656/515696104.html  ...    negative\n",
              "2016   data/ca/796987/6210656/681638034.html  ...    negative\n",
              "2017   data/ca/796987/6210656/288535737.html  ...    negative\n",
              "2018   data/ca/796987/6210656/385900635.html  ...    negative\n",
              "\n",
              "[2019 rows x 5 columns]"
            ]
          },
          "metadata": {
            "tags": []
          },
          "execution_count": 9
        }
      ]
    },
    {
      "cell_type": "code",
      "metadata": {
        "id": "BYIwsARbzXou",
        "colab_type": "code",
        "colab": {}
      },
      "source": [
        "grouped = hotelDfRaw.groupby(['hotelName']).filter(lambda x: len(x) > 30)#.filter(lambda x: len(x) > 10)\n",
        "hotelDf = grouped.loc[grouped.groupby(['hotelName']).ratingScore.filter(lambda x: x.mean() < 5 ).index]\n",
        "hotelDf.loc[hotelDf.groundTruth == 'positive', 'groundTruth'] = 1\n",
        "hotelDf.loc[hotelDf.groundTruth == 'negative', 'groundTruth'] = 0"
      ],
      "execution_count": 0,
      "outputs": []
    },
    {
      "cell_type": "code",
      "metadata": {
        "id": "pR67UwkGCNg3",
        "colab_type": "code",
        "colab": {}
      },
      "source": [
        "hotelDf = hotelDf.reset_index(drop=True)"
      ],
      "execution_count": 0,
      "outputs": []
    },
    {
      "cell_type": "code",
      "metadata": {
        "id": "2D62cJDXHIy2",
        "colab_type": "code",
        "outputId": "18b78ff5-05ca-4587-dfb0-4218352a8ed9",
        "colab": {
          "base_uri": "https://localhost:8080/",
          "height": 399
        }
      },
      "source": [
        "hotelDf.hotelName.value_counts()"
      ],
      "execution_count": 0,
      "outputs": [
        {
          "output_type": "execute_result",
          "data": {
            "text/plain": [
              "Peterborough Inn &amp; Suites Hotel                      100\n",
              "Days Inn and Suites by Wyndham Lindsay                   100\n",
              "Stillwater on the Lake                                   100\n",
              "Quality Inn Peterborough                                 100\n",
              "Holiday Inn Peterborough                                 100\n",
              "Best Western Plus Otonabee Inn                           100\n",
              "Comfort Inn &amp; Suites                                 100\n",
              "Howard Johnson by Wyndham Lindsay                        100\n",
              "Elmhirst&#39;s Resort                                    100\n",
              "Super 8 by Wyndham Peterborough                          100\n",
              "Westwind Inn                                             100\n",
              "Best Western Plus Cobourg Inn &amp; Convention Centre    100\n",
              "Comfort Inn Port Hope                                     90\n",
              "Kent Inn                                                  85\n",
              "Motel 6 Peterborough                                      70\n",
              "Comfort Inn Cobourg                                       64\n",
              "Village Inn of Lakefield                                  59\n",
              "Pine Vista Resort                                         49\n",
              "Admiral Inn &amp; Conference Centre                       48\n",
              "Knights Inn Lindsay                                       35\n",
              "Name: hotelName, dtype: int64"
            ]
          },
          "metadata": {
            "tags": []
          },
          "execution_count": 12
        }
      ]
    },
    {
      "cell_type": "code",
      "metadata": {
        "id": "1SsdoixaF22l",
        "colab_type": "code",
        "outputId": "2d9fe77e-cc0c-4279-f8c5-077f2a8ea442",
        "colab": {
          "base_uri": "https://localhost:8080/",
          "height": 35
        }
      },
      "source": [
        "#check empty reviews\n",
        "hotelDf[hotelDf['reviewColumn'] == ''].index"
      ],
      "execution_count": 0,
      "outputs": [
        {
          "output_type": "execute_result",
          "data": {
            "text/plain": [
              "Int64Index([], dtype='int64')"
            ]
          },
          "metadata": {
            "tags": []
          },
          "execution_count": 13
        }
      ]
    },
    {
      "cell_type": "code",
      "metadata": {
        "id": "Y3fnzXuNGdIR",
        "colab_type": "code",
        "outputId": "e3bf0f83-d6f2-40e4-f882-b90d95e041f6",
        "colab": {
          "base_uri": "https://localhost:8080/",
          "height": 48
        }
      },
      "source": [
        "hotelDf[hotelDf['reviewColumn'].isna()]"
      ],
      "execution_count": 0,
      "outputs": [
        {
          "output_type": "execute_result",
          "data": {
            "text/html": [
              "<div>\n",
              "<style scoped>\n",
              "    .dataframe tbody tr th:only-of-type {\n",
              "        vertical-align: middle;\n",
              "    }\n",
              "\n",
              "    .dataframe tbody tr th {\n",
              "        vertical-align: top;\n",
              "    }\n",
              "\n",
              "    .dataframe thead th {\n",
              "        text-align: right;\n",
              "    }\n",
              "</style>\n",
              "<table border=\"1\" class=\"dataframe\">\n",
              "  <thead>\n",
              "    <tr style=\"text-align: right;\">\n",
              "      <th></th>\n",
              "      <th>filePath</th>\n",
              "      <th>hotelName</th>\n",
              "      <th>reviewColumn</th>\n",
              "      <th>ratingScore</th>\n",
              "      <th>groundTruth</th>\n",
              "    </tr>\n",
              "  </thead>\n",
              "  <tbody>\n",
              "  </tbody>\n",
              "</table>\n",
              "</div>"
            ],
            "text/plain": [
              "Empty DataFrame\n",
              "Columns: [filePath, hotelName, reviewColumn, ratingScore, groundTruth]\n",
              "Index: []"
            ]
          },
          "metadata": {
            "tags": []
          },
          "execution_count": 14
        }
      ]
    },
    {
      "cell_type": "code",
      "metadata": {
        "id": "YpMtWzz49b2w",
        "colab_type": "code",
        "colab": {}
      },
      "source": [
        "# Use vader to evaluated sentiment of reviews\n",
        "def evalSentences(sentences, to_df=False, columns=[]):\n",
        "    #Instantiate an instance to access SentimentIntensityAnalyzer class\n",
        "    sid = SentimentIntensityAnalyzer()\n",
        "    pdlist = []\n",
        "    if to_df:\n",
        "        for sentence in tqdm(sentences):\n",
        "            ss = sid.polarity_scores(sentence)\n",
        "            pdlist.append([sentence]+[ss['compound']])\n",
        "        reviewDf = pd.DataFrame(pdlist)\n",
        "        reviewDf.columns = columns\n",
        "        return reviewDf\n",
        "    \n",
        "    else:\n",
        "        for sentence in tqdm(sentences):\n",
        "            print(sentence)\n",
        "            ss = sid.polarity_scores(sentence)\n",
        "            for k in sorted(ss):\n",
        "                print('{0}: {1}, '.format(k, ss[k]), end='')\n",
        "            print()"
      ],
      "execution_count": 0,
      "outputs": []
    },
    {
      "cell_type": "code",
      "metadata": {
        "id": "pYtGNkje5ozH",
        "colab_type": "code",
        "outputId": "1f1deb80-bbd4-4f02-c0a2-f6808d480b5c",
        "colab": {
          "base_uri": "https://localhost:8080/",
          "height": 35
        }
      },
      "source": [
        "reviews = hotelDf['reviewColumn'].values\n",
        "reviewDF = evalSentences(reviews, to_df=True, columns=['reviewCol','vader'])"
      ],
      "execution_count": 0,
      "outputs": [
        {
          "output_type": "stream",
          "text": [
            "100%|██████████| 1700/1700 [00:02<00:00, 818.63it/s]\n"
          ],
          "name": "stderr"
        }
      ]
    },
    {
      "cell_type": "markdown",
      "metadata": {
        "id": "8ffdAXaz-HR8",
        "colab_type": "text"
      },
      "source": [
        "##Q1. Sentiment Analysis and Aggregation"
      ]
    },
    {
      "cell_type": "markdown",
      "metadata": {
        "id": "nHouNsPE-Jo5",
        "colab_type": "text"
      },
      "source": [
        "###(a)"
      ]
    },
    {
      "cell_type": "code",
      "metadata": {
        "id": "A3gvy5UW-OmU",
        "colab_type": "code",
        "colab": {}
      },
      "source": [
        "hotelDf['vader'] = reviewDF['vader']\n",
        "hotelMeanScore = hotelDf.groupby(['hotelName']).mean()\n",
        "hotelMeanScore.reset_index(inplace=True)"
      ],
      "execution_count": 0,
      "outputs": []
    },
    {
      "cell_type": "markdown",
      "metadata": {
        "id": "47NPUMaC-LrO",
        "colab_type": "text"
      },
      "source": [
        "###(b)"
      ]
    },
    {
      "cell_type": "code",
      "metadata": {
        "id": "uhJ_fUpYmedv",
        "colab_type": "code",
        "outputId": "1f698804-0d9e-4c56-b5e5-eb7fa3e0056a",
        "colab": {
          "base_uri": "https://localhost:8080/",
          "height": 198
        }
      },
      "source": [
        "hotelMeanScore.sort_values(by='vader', ascending=False).head(5)"
      ],
      "execution_count": 0,
      "outputs": [
        {
          "output_type": "execute_result",
          "data": {
            "text/html": [
              "<div>\n",
              "<style scoped>\n",
              "    .dataframe tbody tr th:only-of-type {\n",
              "        vertical-align: middle;\n",
              "    }\n",
              "\n",
              "    .dataframe tbody tr th {\n",
              "        vertical-align: top;\n",
              "    }\n",
              "\n",
              "    .dataframe thead th {\n",
              "        text-align: right;\n",
              "    }\n",
              "</style>\n",
              "<table border=\"1\" class=\"dataframe\">\n",
              "  <thead>\n",
              "    <tr style=\"text-align: right;\">\n",
              "      <th></th>\n",
              "      <th>hotelName</th>\n",
              "      <th>ratingScore</th>\n",
              "      <th>groundTruth</th>\n",
              "      <th>vader</th>\n",
              "    </tr>\n",
              "  </thead>\n",
              "  <tbody>\n",
              "    <tr>\n",
              "      <th>16</th>\n",
              "      <td>Stillwater on the Lake</td>\n",
              "      <td>4.970000</td>\n",
              "      <td>0.990000</td>\n",
              "      <td>0.940308</td>\n",
              "    </tr>\n",
              "    <tr>\n",
              "      <th>14</th>\n",
              "      <td>Pine Vista Resort</td>\n",
              "      <td>4.693878</td>\n",
              "      <td>0.959184</td>\n",
              "      <td>0.920153</td>\n",
              "    </tr>\n",
              "    <tr>\n",
              "      <th>19</th>\n",
              "      <td>Westwind Inn</td>\n",
              "      <td>4.250000</td>\n",
              "      <td>0.800000</td>\n",
              "      <td>0.892692</td>\n",
              "    </tr>\n",
              "    <tr>\n",
              "      <th>18</th>\n",
              "      <td>Village Inn of Lakefield</td>\n",
              "      <td>4.389831</td>\n",
              "      <td>0.898305</td>\n",
              "      <td>0.882390</td>\n",
              "    </tr>\n",
              "    <tr>\n",
              "      <th>2</th>\n",
              "      <td>Best Western Plus Otonabee Inn</td>\n",
              "      <td>4.350000</td>\n",
              "      <td>0.880000</td>\n",
              "      <td>0.839094</td>\n",
              "    </tr>\n",
              "  </tbody>\n",
              "</table>\n",
              "</div>"
            ],
            "text/plain": [
              "                         hotelName  ratingScore  groundTruth     vader\n",
              "16          Stillwater on the Lake     4.970000     0.990000  0.940308\n",
              "14               Pine Vista Resort     4.693878     0.959184  0.920153\n",
              "19                    Westwind Inn     4.250000     0.800000  0.892692\n",
              "18        Village Inn of Lakefield     4.389831     0.898305  0.882390\n",
              "2   Best Western Plus Otonabee Inn     4.350000     0.880000  0.839094"
            ]
          },
          "metadata": {
            "tags": []
          },
          "execution_count": 18
        }
      ]
    },
    {
      "cell_type": "code",
      "metadata": {
        "id": "FIq6aALinRPt",
        "colab_type": "code",
        "outputId": "6192433d-c583-4dd7-aac1-d705863af333",
        "colab": {
          "base_uri": "https://localhost:8080/",
          "height": 198
        }
      },
      "source": [
        "hotelMeanScore.sort_values(by='groundTruth', ascending=False).head(5)"
      ],
      "execution_count": 0,
      "outputs": [
        {
          "output_type": "execute_result",
          "data": {
            "text/html": [
              "<div>\n",
              "<style scoped>\n",
              "    .dataframe tbody tr th:only-of-type {\n",
              "        vertical-align: middle;\n",
              "    }\n",
              "\n",
              "    .dataframe tbody tr th {\n",
              "        vertical-align: top;\n",
              "    }\n",
              "\n",
              "    .dataframe thead th {\n",
              "        text-align: right;\n",
              "    }\n",
              "</style>\n",
              "<table border=\"1\" class=\"dataframe\">\n",
              "  <thead>\n",
              "    <tr style=\"text-align: right;\">\n",
              "      <th></th>\n",
              "      <th>hotelName</th>\n",
              "      <th>ratingScore</th>\n",
              "      <th>groundTruth</th>\n",
              "      <th>vader</th>\n",
              "    </tr>\n",
              "  </thead>\n",
              "  <tbody>\n",
              "    <tr>\n",
              "      <th>16</th>\n",
              "      <td>Stillwater on the Lake</td>\n",
              "      <td>4.970000</td>\n",
              "      <td>0.990000</td>\n",
              "      <td>0.940308</td>\n",
              "    </tr>\n",
              "    <tr>\n",
              "      <th>14</th>\n",
              "      <td>Pine Vista Resort</td>\n",
              "      <td>4.693878</td>\n",
              "      <td>0.959184</td>\n",
              "      <td>0.920153</td>\n",
              "    </tr>\n",
              "    <tr>\n",
              "      <th>6</th>\n",
              "      <td>Days Inn and Suites by Wyndham Lindsay</td>\n",
              "      <td>4.670000</td>\n",
              "      <td>0.950000</td>\n",
              "      <td>0.838556</td>\n",
              "    </tr>\n",
              "    <tr>\n",
              "      <th>18</th>\n",
              "      <td>Village Inn of Lakefield</td>\n",
              "      <td>4.389831</td>\n",
              "      <td>0.898305</td>\n",
              "      <td>0.882390</td>\n",
              "    </tr>\n",
              "    <tr>\n",
              "      <th>2</th>\n",
              "      <td>Best Western Plus Otonabee Inn</td>\n",
              "      <td>4.350000</td>\n",
              "      <td>0.880000</td>\n",
              "      <td>0.839094</td>\n",
              "    </tr>\n",
              "  </tbody>\n",
              "</table>\n",
              "</div>"
            ],
            "text/plain": [
              "                                 hotelName  ratingScore  groundTruth     vader\n",
              "16                  Stillwater on the Lake     4.970000     0.990000  0.940308\n",
              "14                       Pine Vista Resort     4.693878     0.959184  0.920153\n",
              "6   Days Inn and Suites by Wyndham Lindsay     4.670000     0.950000  0.838556\n",
              "18                Village Inn of Lakefield     4.389831     0.898305  0.882390\n",
              "2           Best Western Plus Otonabee Inn     4.350000     0.880000  0.839094"
            ]
          },
          "metadata": {
            "tags": []
          },
          "execution_count": 19
        }
      ]
    },
    {
      "cell_type": "code",
      "metadata": {
        "id": "-xIy8OVs-N8j",
        "colab_type": "code",
        "outputId": "ab03059a-93e4-4baf-c67a-ca265aad02bb",
        "colab": {
          "base_uri": "https://localhost:8080/",
          "height": 198
        }
      },
      "source": [
        "hotelMeanScore.sort_values(by='vader', ascending=True).head(5)"
      ],
      "execution_count": 0,
      "outputs": [
        {
          "output_type": "execute_result",
          "data": {
            "text/html": [
              "<div>\n",
              "<style scoped>\n",
              "    .dataframe tbody tr th:only-of-type {\n",
              "        vertical-align: middle;\n",
              "    }\n",
              "\n",
              "    .dataframe tbody tr th {\n",
              "        vertical-align: top;\n",
              "    }\n",
              "\n",
              "    .dataframe thead th {\n",
              "        text-align: right;\n",
              "    }\n",
              "</style>\n",
              "<table border=\"1\" class=\"dataframe\">\n",
              "  <thead>\n",
              "    <tr style=\"text-align: right;\">\n",
              "      <th></th>\n",
              "      <th>hotelName</th>\n",
              "      <th>ratingScore</th>\n",
              "      <th>groundTruth</th>\n",
              "      <th>vader</th>\n",
              "    </tr>\n",
              "  </thead>\n",
              "  <tbody>\n",
              "    <tr>\n",
              "      <th>0</th>\n",
              "      <td>Admiral Inn &amp;amp; Conference Centre</td>\n",
              "      <td>2.645833</td>\n",
              "      <td>0.375000</td>\n",
              "      <td>0.090758</td>\n",
              "    </tr>\n",
              "    <tr>\n",
              "      <th>9</th>\n",
              "      <td>Howard Johnson by Wyndham Lindsay</td>\n",
              "      <td>3.050000</td>\n",
              "      <td>0.420000</td>\n",
              "      <td>0.294749</td>\n",
              "    </tr>\n",
              "    <tr>\n",
              "      <th>4</th>\n",
              "      <td>Comfort Inn Cobourg</td>\n",
              "      <td>3.203125</td>\n",
              "      <td>0.437500</td>\n",
              "      <td>0.493953</td>\n",
              "    </tr>\n",
              "    <tr>\n",
              "      <th>12</th>\n",
              "      <td>Motel 6 Peterborough</td>\n",
              "      <td>3.471429</td>\n",
              "      <td>0.571429</td>\n",
              "      <td>0.535274</td>\n",
              "    </tr>\n",
              "    <tr>\n",
              "      <th>15</th>\n",
              "      <td>Quality Inn Peterborough</td>\n",
              "      <td>3.410000</td>\n",
              "      <td>0.550000</td>\n",
              "      <td>0.599163</td>\n",
              "    </tr>\n",
              "  </tbody>\n",
              "</table>\n",
              "</div>"
            ],
            "text/plain": [
              "                              hotelName  ratingScore  groundTruth     vader\n",
              "0   Admiral Inn &amp; Conference Centre     2.645833     0.375000  0.090758\n",
              "9     Howard Johnson by Wyndham Lindsay     3.050000     0.420000  0.294749\n",
              "4                   Comfort Inn Cobourg     3.203125     0.437500  0.493953\n",
              "12                 Motel 6 Peterborough     3.471429     0.571429  0.535274\n",
              "15             Quality Inn Peterborough     3.410000     0.550000  0.599163"
            ]
          },
          "metadata": {
            "tags": []
          },
          "execution_count": 20
        }
      ]
    },
    {
      "cell_type": "code",
      "metadata": {
        "id": "z8P5m5tOKbfj",
        "colab_type": "code",
        "outputId": "1d2d83b5-c825-4e1e-9f08-9b04175e48dc",
        "colab": {
          "base_uri": "https://localhost:8080/",
          "height": 198
        }
      },
      "source": [
        "hotelMeanScore.sort_values(by='groundTruth', ascending=True).head(5)"
      ],
      "execution_count": 0,
      "outputs": [
        {
          "output_type": "execute_result",
          "data": {
            "text/html": [
              "<div>\n",
              "<style scoped>\n",
              "    .dataframe tbody tr th:only-of-type {\n",
              "        vertical-align: middle;\n",
              "    }\n",
              "\n",
              "    .dataframe tbody tr th {\n",
              "        vertical-align: top;\n",
              "    }\n",
              "\n",
              "    .dataframe thead th {\n",
              "        text-align: right;\n",
              "    }\n",
              "</style>\n",
              "<table border=\"1\" class=\"dataframe\">\n",
              "  <thead>\n",
              "    <tr style=\"text-align: right;\">\n",
              "      <th></th>\n",
              "      <th>hotelName</th>\n",
              "      <th>ratingScore</th>\n",
              "      <th>groundTruth</th>\n",
              "      <th>vader</th>\n",
              "    </tr>\n",
              "  </thead>\n",
              "  <tbody>\n",
              "    <tr>\n",
              "      <th>0</th>\n",
              "      <td>Admiral Inn &amp;amp; Conference Centre</td>\n",
              "      <td>2.645833</td>\n",
              "      <td>0.375000</td>\n",
              "      <td>0.090758</td>\n",
              "    </tr>\n",
              "    <tr>\n",
              "      <th>9</th>\n",
              "      <td>Howard Johnson by Wyndham Lindsay</td>\n",
              "      <td>3.050000</td>\n",
              "      <td>0.420000</td>\n",
              "      <td>0.294749</td>\n",
              "    </tr>\n",
              "    <tr>\n",
              "      <th>11</th>\n",
              "      <td>Knights Inn Lindsay</td>\n",
              "      <td>3.171429</td>\n",
              "      <td>0.428571</td>\n",
              "      <td>0.604649</td>\n",
              "    </tr>\n",
              "    <tr>\n",
              "      <th>4</th>\n",
              "      <td>Comfort Inn Cobourg</td>\n",
              "      <td>3.203125</td>\n",
              "      <td>0.437500</td>\n",
              "      <td>0.493953</td>\n",
              "    </tr>\n",
              "    <tr>\n",
              "      <th>5</th>\n",
              "      <td>Comfort Inn Port Hope</td>\n",
              "      <td>3.255556</td>\n",
              "      <td>0.444444</td>\n",
              "      <td>0.608629</td>\n",
              "    </tr>\n",
              "  </tbody>\n",
              "</table>\n",
              "</div>"
            ],
            "text/plain": [
              "                              hotelName  ratingScore  groundTruth     vader\n",
              "0   Admiral Inn &amp; Conference Centre     2.645833     0.375000  0.090758\n",
              "9     Howard Johnson by Wyndham Lindsay     3.050000     0.420000  0.294749\n",
              "11                  Knights Inn Lindsay     3.171429     0.428571  0.604649\n",
              "4                   Comfort Inn Cobourg     3.203125     0.437500  0.493953\n",
              "5                 Comfort Inn Port Hope     3.255556     0.444444  0.608629"
            ]
          },
          "metadata": {
            "tags": []
          },
          "execution_count": 21
        }
      ]
    },
    {
      "cell_type": "markdown",
      "metadata": {
        "id": "gdfHWqklO56Z",
        "colab_type": "text"
      },
      "source": [
        "they mostly agree with each other, especially the top and bottom 2."
      ]
    },
    {
      "cell_type": "markdown",
      "metadata": {
        "id": "jQOy0uC7-Pb-",
        "colab_type": "text"
      },
      "source": [
        "##Q2. Frequency Analysis"
      ]
    },
    {
      "cell_type": "markdown",
      "metadata": {
        "id": "7gnCJTxV-S6v",
        "colab_type": "text"
      },
      "source": [
        "###(a)"
      ]
    },
    {
      "cell_type": "code",
      "metadata": {
        "id": "5XZ6FWwq-VBf",
        "colab_type": "code",
        "colab": {}
      },
      "source": [
        "# Note: You may want to use an NLTK tokenizer instead of a regular expression in the following\n",
        "def dataFrameTransformation(hotelDf, k=500):\n",
        "    reviews = hotelDf['reviewColumn'].values\n",
        "    \n",
        "    stop = set(stopwords.words('english'))\n",
        "    #Add possible Stop Words for Hotel Reviews\n",
        "    stop.add('hotel')\n",
        "    stop.add('room')\n",
        "    stop.add('rooms')\n",
        "    stop.add('stay')\n",
        "    stop.add('staff')\n",
        "\n",
        "    # Top-k frequent terms\n",
        "    counter = Counter()\n",
        "    for review in reviews:\n",
        "            counter.update([word.lower() \n",
        "                            for word \n",
        "                            in re.findall(r'\\w+', review) \n",
        "                            if word.lower() not in stop and len(word) > 2])\n",
        "    topk = counter.most_common(k)        \n",
        "    \n",
        "    #Find out if a particular review has the word from topk list\n",
        "    freqReview = []\n",
        "    for i in range(len(reviews)):\n",
        "        tempCounter = Counter([word.lower() for word in re.findall(r'\\w+',reviews[i])])\n",
        "        topkinReview = [1 if tempCounter[word] > 0 else 0 for (word,wordCount) in topk]\n",
        "        freqReview.append(topkinReview)\n",
        "        \n",
        "        \n",
        "    #Prepare freqReviewDf\n",
        "    freqReviewDf = pd.DataFrame(freqReview)\n",
        "    dfName = []\n",
        "    for c in topk:\n",
        "        dfName.append(c[0])\n",
        "    freqReviewDf.columns = dfName\n",
        "    finaldf = hotelDf[['hotelName','ratingScore','groundTruth','reviewColumn','vader']].join(freqReviewDf)\n",
        "    return topk, finaldf"
      ],
      "execution_count": 0,
      "outputs": []
    },
    {
      "cell_type": "code",
      "metadata": {
        "id": "OFJ49e6NTAPq",
        "colab_type": "code",
        "colab": {}
      },
      "source": [
        "topk, finaldf = dataFrameTransformation(hotelDf, k=10000)\n"
      ],
      "execution_count": 0,
      "outputs": []
    },
    {
      "cell_type": "code",
      "metadata": {
        "id": "jKSRQeAf2Xrr",
        "colab_type": "code",
        "colab": {}
      },
      "source": [
        "def getTopK(df, k, label_value, label_column='groundTruth', operation=operator.eq, value_column='reviewColumn'):\n",
        "    stop = set(stopwords.words('english'))\n",
        "    #Add possible Stop Words for Hotel Reviews\n",
        "    stop.add('hotel')\n",
        "    stop.add('room')\n",
        "    stop.add('rooms')\n",
        "    stop.add('stay')\n",
        "    stop.add('staff')\n",
        "    counter = Counter()\n",
        "    for review in df.loc[operation(df[label_column],label_value)][value_column]:\n",
        "            counter.update([word.lower() \n",
        "                            for word \n",
        "                            in re.findall(r'\\w+', review) \n",
        "                            if word.lower() not in stop and len(word) > 2])\n",
        "    topk = counter.most_common(k)\n",
        "    return topk"
      ],
      "execution_count": 0,
      "outputs": []
    },
    {
      "cell_type": "code",
      "metadata": {
        "id": "Gjh3bOiK62UM",
        "colab_type": "code",
        "colab": {}
      },
      "source": [
        "topkGroundPos = getTopK(df=finaldf, k=50, label_value=1)\n",
        "topkGroundNeg = getTopK(df=finaldf, k=50, label_value=0)\n",
        "topkVaderPos = getTopK(df=finaldf, \n",
        "                       k=50, \n",
        "                       label_value=0, \n",
        "                       label_column='vader', \n",
        "                       operation=operator.gt)\n",
        "topkVaderNeg = getTopK(df=finaldf, \n",
        "                       k=50, \n",
        "                       label_value=0, \n",
        "                       label_column='vader', \n",
        "                       operation=operator.lt)"
      ],
      "execution_count": 0,
      "outputs": []
    },
    {
      "cell_type": "markdown",
      "metadata": {
        "id": "58cOKnRbsinw",
        "colab_type": "text"
      },
      "source": [
        "####(i)"
      ]
    },
    {
      "cell_type": "code",
      "metadata": {
        "id": "wS_cUytoTIkL",
        "colab_type": "code",
        "outputId": "aeaba5f2-2643-47a9-88de-c59b225787cb",
        "colab": {
          "base_uri": "https://localhost:8080/",
          "height": 926
        }
      },
      "source": [
        "topkGroundPos"
      ],
      "execution_count": 0,
      "outputs": [
        {
          "output_type": "execute_result",
          "data": {
            "text/plain": [
              "[('clean', 688),\n",
              " ('breakfast', 626),\n",
              " ('great', 624),\n",
              " ('good', 483),\n",
              " ('friendly', 446),\n",
              " ('would', 442),\n",
              " ('nice', 402),\n",
              " ('stayed', 379),\n",
              " ('comfortable', 365),\n",
              " ('well', 340),\n",
              " ('place', 327),\n",
              " ('time', 325),\n",
              " ('inn', 298),\n",
              " ('night', 293),\n",
              " ('one', 283),\n",
              " ('lake', 278),\n",
              " ('area', 268),\n",
              " ('pool', 253),\n",
              " ('helpful', 241),\n",
              " ('nthe', 237),\n",
              " ('family', 219),\n",
              " ('back', 217),\n",
              " ('food', 213),\n",
              " ('like', 206),\n",
              " ('recommend', 205),\n",
              " ('peterborough', 201),\n",
              " ('beautiful', 201),\n",
              " ('bed', 199),\n",
              " ('hot', 193),\n",
              " ('service', 191),\n",
              " ('could', 188),\n",
              " ('front', 187),\n",
              " ('two', 185),\n",
              " ('beds', 184),\n",
              " ('location', 182),\n",
              " ('really', 180),\n",
              " ('also', 174),\n",
              " ('enjoyed', 170),\n",
              " ('desk', 167),\n",
              " ('excellent', 166),\n",
              " ('little', 165),\n",
              " ('everything', 165),\n",
              " ('small', 164),\n",
              " ('definitely', 163),\n",
              " ('always', 163),\n",
              " ('next', 162),\n",
              " ('best', 157),\n",
              " ('free', 156),\n",
              " ('weekend', 149),\n",
              " ('day', 149)]"
            ]
          },
          "metadata": {
            "tags": []
          },
          "execution_count": 36
        }
      ]
    },
    {
      "cell_type": "markdown",
      "metadata": {
        "id": "uQ0RtKS8soYt",
        "colab_type": "text"
      },
      "source": [
        "####(ii)"
      ]
    },
    {
      "cell_type": "code",
      "metadata": {
        "id": "K43-Gcy1sbKc",
        "colab_type": "code",
        "outputId": "64cda87a-b040-43e6-ecdf-fb9a67d6d0b2",
        "colab": {
          "base_uri": "https://localhost:8080/",
          "height": 926
        }
      },
      "source": [
        "topkGroundNeg"
      ],
      "execution_count": 0,
      "outputs": [
        {
          "output_type": "execute_result",
          "data": {
            "text/plain": [
              "[('would', 296),\n",
              " ('night', 245),\n",
              " ('one', 238),\n",
              " ('breakfast', 220),\n",
              " ('clean', 216),\n",
              " ('good', 199),\n",
              " ('desk', 175),\n",
              " ('front', 161),\n",
              " ('stayed', 157),\n",
              " ('nice', 153),\n",
              " ('bed', 149),\n",
              " ('nthe', 146),\n",
              " ('like', 137),\n",
              " ('place', 133),\n",
              " ('could', 131),\n",
              " ('get', 128),\n",
              " ('bathroom', 117),\n",
              " ('inn', 117),\n",
              " ('well', 116),\n",
              " ('floor', 114),\n",
              " ('back', 114),\n",
              " ('time', 108),\n",
              " ('first', 107),\n",
              " ('small', 106),\n",
              " ('even', 103),\n",
              " ('great', 99),\n",
              " ('water', 98),\n",
              " ('people', 94),\n",
              " ('two', 94),\n",
              " ('old', 94),\n",
              " ('hot', 90),\n",
              " ('also', 90),\n",
              " ('tub', 90),\n",
              " ('said', 88),\n",
              " ('friendly', 88),\n",
              " ('check', 88),\n",
              " ('price', 87),\n",
              " ('area', 87),\n",
              " ('food', 85),\n",
              " ('comfortable', 84),\n",
              " ('next', 84),\n",
              " ('beds', 83),\n",
              " ('location', 83),\n",
              " ('door', 82),\n",
              " ('day', 78),\n",
              " ('got', 78),\n",
              " ('pool', 78),\n",
              " ('coffee', 78),\n",
              " ('lot', 76),\n",
              " ('told', 73)]"
            ]
          },
          "metadata": {
            "tags": []
          },
          "execution_count": 37
        }
      ]
    },
    {
      "cell_type": "markdown",
      "metadata": {
        "id": "8x0_qspGs0An",
        "colab_type": "text"
      },
      "source": [
        "The top positive words have 'lake' and 'peterborough' in the list as the place Peterborough has a lot of lakes and the hotel next to the lake could have many reviews contains 'lake'."
      ]
    },
    {
      "cell_type": "markdown",
      "metadata": {
        "id": "Z7T1xE5N-VKM",
        "colab_type": "text"
      },
      "source": [
        "###(b)"
      ]
    },
    {
      "cell_type": "code",
      "metadata": {
        "id": "J2Rf15dyE5-s",
        "colab_type": "code",
        "colab": {}
      },
      "source": [
        "tagger = PerceptronTagger()\n",
        "pos_tag = tagger.tag\n",
        "grammar = r\"\"\"\n",
        "    NBAR:\n",
        "        {<NN.*|JJ>*<NN.*>}  # Nouns and Adjectives, terminated with Nouns\n",
        "        \n",
        "    NP:\n",
        "        {<NBAR>}\n",
        "        {<NBAR><IN><NBAR>}  # Above, connected with in/of/etc...\n",
        "\"\"\"\n",
        "# Create phrase tree\n",
        "chunker = nltk.RegexpParser(grammar)\n",
        "#tree= chunker.parse(taggedToks)\n",
        "# Noun Phrase Extraction Support Functions\n",
        "from nltk.corpus import stopwords\n",
        "stop = stopwords.words('english')\n",
        "lemmatizer = nltk.WordNetLemmatizer()\n",
        "stemmer = nltk.stem.porter.PorterStemmer()\n",
        "\n",
        "# generator, generate leaves one by one\n",
        "def leaves(tree):\n",
        "    \"\"\"Finds NP (nounphrase) leaf nodes of a chunk tree.\"\"\"\n",
        "    for subtree in tree.subtrees(filter = lambda t: t.label()=='NP' or t.label()=='JJ' or t.label()=='RB'):\n",
        "        yield subtree.leaves()\n",
        "\n",
        "# stemming, lematizing, lower case... \n",
        "def normalise(word):\n",
        "    \"\"\"Normalises words to lowercase and stems and lemmatizes it.\"\"\"\n",
        "    word = word.lower()\n",
        "    word = stemmer.stem(word)\n",
        "    word = lemmatizer.lemmatize(word)\n",
        "    return word\n",
        "\n",
        "# stop-words and length control\n",
        "def acceptable_word(word):\n",
        "    \"\"\"Checks conditions for acceptable word: length, stopword.\"\"\"\n",
        "    accepted = bool(2 <= len(word) <= 40\n",
        "        and word.lower() not in stop)\n",
        "    return accepted\n",
        "\n",
        "# generator, create item once a time\n",
        "def get_terms(tree):\n",
        "    for leaf in leaves(tree):\n",
        "        term = [normalise(w) for w,t in leaf if acceptable_word(w) ]\n",
        "        # Phrase only\n",
        "        if len(term)>1:\n",
        "            yield term\n",
        "# Flatten phrase lists to get tokens for analysis\n",
        "def flatten(npTokenList):\n",
        "    finalList =[]\n",
        "    for phrase in npTokenList:\n",
        "        token = ''\n",
        "        for word in phrase:\n",
        "            token += word + ' '\n",
        "        finalList.append(token.rstrip())\n",
        "    return finalList\n",
        "\n",
        "# Revise the previous dataframe transform function...\n",
        "def newDataFrameTransformation(hotelDf, k=500):\n",
        "    reviews = hotelDf['reviewColumn'].values\n",
        "    review_pos = hotelDf[hotelDf['groundTruth']==1]['reviewColumn'].values\n",
        "    review_neg = hotelDf[hotelDf['groundTruth']==0]['reviewColumn'].values\n",
        "\n",
        "    # Top-k frequent terms\n",
        "    counter = Counter()\n",
        "    c_pos = Counter()\n",
        "    c_neg = Counter()\n",
        "\n",
        "    for review in reviews:\n",
        "            counter.update(flatten([word\n",
        "                            for word \n",
        "                            in get_terms(chunker.parse(pos_tag(re.findall(r'\\w+', review)))) \n",
        "                            ]))\n",
        "    topk = counter.most_common(k)\n",
        "\n",
        "    for review in review_pos:\n",
        "            c_pos.update(flatten([word\n",
        "                            for word \n",
        "                            in get_terms(chunker.parse(pos_tag(re.findall(r'\\w+', review)))) \n",
        "                            ]))\n",
        "    topkPos = c_pos.most_common(k)\n",
        "\n",
        "    for review in review_neg:\n",
        "            c_neg.update(flatten([word\n",
        "                            for word \n",
        "                            in get_terms(chunker.parse(pos_tag(re.findall(r'\\w+', review)))) \n",
        "                            ]))\n",
        "    topkNeg = c_neg.most_common(k)\n",
        "\n",
        "    #Find out if a particular review has the word from topk list\n",
        "    freqReview = []\n",
        "    for i in range(len(reviews)):\n",
        "        tempCounter = Counter(flatten([word \n",
        "                                       for word \n",
        "                                       in get_terms(chunker.parse(pos_tag(re.findall(r'\\w+',reviews[i]))))]))\n",
        "        topkinReview = [1 if tempCounter[word] > 0 else 0 for (word,wordCount) in topk]\n",
        "        freqReview.append(topkinReview)\n",
        "        \n",
        "        \n",
        "    #Prepare freqReviewDf\n",
        "    freqReviewDf = pd.DataFrame(freqReview)\n",
        "    dfName = []\n",
        "    for c in topk:\n",
        "        dfName.append(c[0])\n",
        "    freqReviewDf.columns = dfName\n",
        "    finaldf = hotelDf[['hotelName','ratingScore','groundTruth','reviewColumn']].join(freqReviewDf)\n",
        "    return topk, topkPos, topkNeg, finaldf"
      ],
      "execution_count": 0,
      "outputs": []
    },
    {
      "cell_type": "code",
      "metadata": {
        "id": "Dlkeec68uyHo",
        "colab_type": "code",
        "colab": {}
      },
      "source": [
        "topk_phrase, topk_phrase_pos, topk_phrase_neg, finaldf_phrase = newDataFrameTransformation(hotelDf)"
      ],
      "execution_count": 0,
      "outputs": []
    },
    {
      "cell_type": "markdown",
      "metadata": {
        "id": "BcQ0NVKd21sl",
        "colab_type": "text"
      },
      "source": [
        "####(i)"
      ]
    },
    {
      "cell_type": "code",
      "metadata": {
        "id": "647mHDK5-Ygp",
        "colab_type": "code",
        "outputId": "dfabcabc-1d07-4cc9-80c6-c1424e4b8153",
        "colab": {
          "base_uri": "https://localhost:8080/",
          "height": 926
        }
      },
      "source": [
        "topk_phrase_pos[:50]"
      ],
      "execution_count": 0,
      "outputs": [
        {
          "output_type": "execute_result",
          "data": {
            "text/plain": [
              "[('front desk', 62),\n",
              " ('hot tub', 53),\n",
              " ('great place', 30),\n",
              " ('friendli staff', 29),\n",
              " ('continent breakfast', 28),\n",
              " ('westwind inn', 25),\n",
              " ('comfort inn', 24),\n",
              " ('kent inn', 24),\n",
              " ('pine vista', 21),\n",
              " ('next time', 19),\n",
              " ('clean staff', 19),\n",
              " ('front desk staff', 19),\n",
              " ('villag inn', 19),\n",
              " ('nthe room', 18),\n",
              " ('coffe maker', 18),\n",
              " ('next year', 18),\n",
              " ('indoor pool', 18),\n",
              " ('rice lake', 18),\n",
              " ('next day', 17),\n",
              " ('first time', 17),\n",
              " ('minut drive', 16),\n",
              " ('good valu', 15),\n",
              " ('queen bed', 15),\n",
              " ('night stay', 15),\n",
              " ('great stay', 14),\n",
              " ('mini fridg', 14),\n",
              " ('hotel staff', 14),\n",
              " ('beauti view', 14),\n",
              " ('great time', 14),\n",
              " ('outdoor pool', 14),\n",
              " ('great hotel', 13),\n",
              " ('main street', 13),\n",
              " ('ground floor', 13),\n",
              " ('comfort bed', 13),\n",
              " ('breakfast room', 13),\n",
              " ('pine vista resort', 13),\n",
              " ('dine room', 13),\n",
              " ('qualiti inn', 12),\n",
              " ('free breakfast', 12),\n",
              " ('saturday night', 12),\n",
              " ('nthe staff', 12),\n",
              " ('complimentari breakfast', 11),\n",
              " ('great experi', 11),\n",
              " ('hot breakfast', 11),\n",
              " ('breakfast area', 11),\n",
              " ('downtown area', 11),\n",
              " ('nthe hotel', 11),\n",
              " ('park lot', 11),\n",
              " ('great locat', 11),\n",
              " ('nice place', 11)]"
            ]
          },
          "metadata": {
            "tags": []
          },
          "execution_count": 79
        }
      ]
    },
    {
      "cell_type": "markdown",
      "metadata": {
        "id": "eFsRfLmD275s",
        "colab_type": "text"
      },
      "source": [
        "####(ii)"
      ]
    },
    {
      "cell_type": "code",
      "metadata": {
        "id": "JzL3Cv1G2-lK",
        "colab_type": "code",
        "outputId": "7f50cd8a-c9f0-43fa-a0e7-38bfc5c3680f",
        "colab": {
          "base_uri": "https://localhost:8080/",
          "height": 926
        }
      },
      "source": [
        "topk_phrase_neg[:50]"
      ],
      "execution_count": 0,
      "outputs": [
        {
          "output_type": "execute_result",
          "data": {
            "text/plain": [
              "[('front desk', 78),\n",
              " ('park lot', 21),\n",
              " ('hot tub', 21),\n",
              " ('next morn', 16),\n",
              " ('night stay', 15),\n",
              " ('nthe room', 14),\n",
              " ('hockey tournament', 13),\n",
              " ('next day', 13),\n",
              " ('air condition', 12),\n",
              " ('second floor', 12),\n",
              " ('hot water', 11),\n",
              " ('front desk staff', 11),\n",
              " ('hot breakfast', 10),\n",
              " ('continent breakfast', 10),\n",
              " ('doubl bed', 10),\n",
              " ('ground floor', 9),\n",
              " ('comfort inn', 9),\n",
              " ('first room', 9),\n",
              " ('hotel room', 9),\n",
              " ('first night', 9),\n",
              " ('holiday inn', 9),\n",
              " ('smoke room', 9),\n",
              " ('dine room', 9),\n",
              " ('good locat', 8),\n",
              " ('credit card', 8),\n",
              " ('first floor', 8),\n",
              " ('coffe maker', 8),\n",
              " ('custom servic', 8),\n",
              " ('first time', 8),\n",
              " ('port hope', 8),\n",
              " ('nthe hotel', 7),\n",
              " ('new room', 7),\n",
              " ('breakfast area', 7),\n",
              " ('hockey team', 7),\n",
              " ('front desk clerk', 6),\n",
              " ('ice machin', 6),\n",
              " ('ac unit', 6),\n",
              " ('cigarett smoke', 6),\n",
              " ('queen bed', 6),\n",
              " ('jacuzzi tub', 6),\n",
              " ('nice touch', 6),\n",
              " ('second night', 6),\n",
              " ('last night', 6),\n",
              " ('next time', 5),\n",
              " ('front desk ladi', 5),\n",
              " ('larg group', 5),\n",
              " ('king bed', 5),\n",
              " ('ga station', 5),\n",
              " ('breakfast room', 5),\n",
              " ('non smoke room', 5)]"
            ]
          },
          "metadata": {
            "tags": []
          },
          "execution_count": 80
        }
      ]
    },
    {
      "cell_type": "markdown",
      "metadata": {
        "id": "yKhXuvFI3IWu",
        "colab_type": "text"
      },
      "source": [
        "Front desk and hot tub plays major role in both positive and negative reviews, which means they play a very important role in the views of hotels. Front desk is very common among hotel reviews as they are one of the few first hotel staff to meet the customers. Hot tub on the other hand, I could not immagine myself to put it this high in my judgement of hotels. This could be a very locale-speci\fc thing."
      ]
    },
    {
      "cell_type": "markdown",
      "metadata": {
        "id": "DRZZCEPZ-ZoW",
        "colab_type": "text"
      },
      "source": [
        "##Q3. Mutual Information"
      ]
    },
    {
      "cell_type": "markdown",
      "metadata": {
        "id": "5bvHcAcV-fp1",
        "colab_type": "text"
      },
      "source": [
        "###(a)"
      ]
    },
    {
      "cell_type": "code",
      "metadata": {
        "id": "ourKKfw8-hOu",
        "colab_type": "code",
        "colab": {}
      },
      "source": [
        "# get Top K mutual information terms from the dataframe\n",
        "def getMI(topk, df, label_column='groundTruth'):\n",
        "    miScore = []\n",
        "    for word in topk:\n",
        "        miScore.append([word[0]]+[metrics.mutual_info_score(df[label_column], df[word[0]])])\n",
        "    miScoredf = pd.DataFrame(miScore).sort_values(1,ascending=0)\n",
        "    miScoredf.columns = ['Word','MI Score']\n",
        "    return miScoredf"
      ],
      "execution_count": 0,
      "outputs": []
    },
    {
      "cell_type": "code",
      "metadata": {
        "id": "ovnv57yQ_lMZ",
        "colab_type": "code",
        "colab": {}
      },
      "source": [
        "miScoredf = getMI(topk, finaldf)"
      ],
      "execution_count": 0,
      "outputs": []
    },
    {
      "cell_type": "code",
      "metadata": {
        "id": "ATMPRhy8AG_j",
        "colab_type": "code",
        "outputId": "6d050d38-15e0-4589-a3c1-66f3f84b2bf1",
        "colab": {
          "base_uri": "https://localhost:8080/",
          "height": 348
        }
      },
      "source": [
        "miScoredf.head(10)"
      ],
      "execution_count": 0,
      "outputs": [
        {
          "output_type": "execute_result",
          "data": {
            "text/html": [
              "<div>\n",
              "<style scoped>\n",
              "    .dataframe tbody tr th:only-of-type {\n",
              "        vertical-align: middle;\n",
              "    }\n",
              "\n",
              "    .dataframe tbody tr th {\n",
              "        vertical-align: top;\n",
              "    }\n",
              "\n",
              "    .dataframe thead th {\n",
              "        text-align: right;\n",
              "    }\n",
              "</style>\n",
              "<table border=\"1\" class=\"dataframe\">\n",
              "  <thead>\n",
              "    <tr style=\"text-align: right;\">\n",
              "      <th></th>\n",
              "      <th>Word</th>\n",
              "      <th>MI Score</th>\n",
              "    </tr>\n",
              "  </thead>\n",
              "  <tbody>\n",
              "    <tr>\n",
              "      <th>285</th>\n",
              "      <td>dirty</td>\n",
              "      <td>0.026500</td>\n",
              "    </tr>\n",
              "    <tr>\n",
              "      <th>3</th>\n",
              "      <td>great</td>\n",
              "      <td>0.022638</td>\n",
              "    </tr>\n",
              "    <tr>\n",
              "      <th>296</th>\n",
              "      <td>carpet</td>\n",
              "      <td>0.021738</td>\n",
              "    </tr>\n",
              "    <tr>\n",
              "      <th>8</th>\n",
              "      <td>friendly</td>\n",
              "      <td>0.018487</td>\n",
              "    </tr>\n",
              "    <tr>\n",
              "      <th>166</th>\n",
              "      <td>told</td>\n",
              "      <td>0.018377</td>\n",
              "    </tr>\n",
              "    <tr>\n",
              "      <th>120</th>\n",
              "      <td>peter</td>\n",
              "      <td>0.017827</td>\n",
              "    </tr>\n",
              "    <tr>\n",
              "      <th>103</th>\n",
              "      <td>sunny</td>\n",
              "      <td>0.017400</td>\n",
              "    </tr>\n",
              "    <tr>\n",
              "      <th>244</th>\n",
              "      <td>smell</td>\n",
              "      <td>0.017306</td>\n",
              "    </tr>\n",
              "    <tr>\n",
              "      <th>94</th>\n",
              "      <td>wonderful</td>\n",
              "      <td>0.016480</td>\n",
              "    </tr>\n",
              "    <tr>\n",
              "      <th>89</th>\n",
              "      <td>old</td>\n",
              "      <td>0.015829</td>\n",
              "    </tr>\n",
              "  </tbody>\n",
              "</table>\n",
              "</div>"
            ],
            "text/plain": [
              "          Word  MI Score\n",
              "285      dirty  0.026500\n",
              "3        great  0.022638\n",
              "296     carpet  0.021738\n",
              "8     friendly  0.018487\n",
              "166       told  0.018377\n",
              "120      peter  0.017827\n",
              "103      sunny  0.017400\n",
              "244      smell  0.017306\n",
              "94   wonderful  0.016480\n",
              "89         old  0.015829"
            ]
          },
          "metadata": {
            "tags": []
          },
          "execution_count": 86
        }
      ]
    },
    {
      "cell_type": "markdown",
      "metadata": {
        "id": "rUFl80DrAgKv",
        "colab_type": "text"
      },
      "source": [
        "Dirty, great and friendly are words with sentiment implied while the word carpet also make sence as dirty or sometimes clean carpet is something people really care about. The word told could be because the interaction wth staff in the hotel that leads to a dissapointing result. "
      ]
    },
    {
      "cell_type": "markdown",
      "metadata": {
        "id": "-qPDAcMe-hWn",
        "colab_type": "text"
      },
      "source": [
        "###(b)"
      ]
    },
    {
      "cell_type": "code",
      "metadata": {
        "id": "Jl65-ZNt-jQq",
        "colab_type": "code",
        "colab": {}
      },
      "source": [
        "miScoredf_phrase = getMI(topk_phrase, finaldf_phrase, label_column='groundTruth')"
      ],
      "execution_count": 0,
      "outputs": []
    },
    {
      "cell_type": "code",
      "metadata": {
        "id": "bXMvguI-4zqr",
        "colab_type": "code",
        "outputId": "758b14fb-94f1-4daa-85bf-a447404d4273",
        "colab": {
          "base_uri": "https://localhost:8080/",
          "height": 348
        }
      },
      "source": [
        "miScoredf_phrase.head(10)"
      ],
      "execution_count": 0,
      "outputs": [
        {
          "output_type": "execute_result",
          "data": {
            "text/html": [
              "<div>\n",
              "<style scoped>\n",
              "    .dataframe tbody tr th:only-of-type {\n",
              "        vertical-align: middle;\n",
              "    }\n",
              "\n",
              "    .dataframe tbody tr th {\n",
              "        vertical-align: top;\n",
              "    }\n",
              "\n",
              "    .dataframe thead th {\n",
              "        text-align: right;\n",
              "    }\n",
              "</style>\n",
              "<table border=\"1\" class=\"dataframe\">\n",
              "  <thead>\n",
              "    <tr style=\"text-align: right;\">\n",
              "      <th></th>\n",
              "      <th>Word</th>\n",
              "      <th>MI Score</th>\n",
              "    </tr>\n",
              "  </thead>\n",
              "  <tbody>\n",
              "    <tr>\n",
              "      <th>0</th>\n",
              "      <td>front desk</td>\n",
              "      <td>0.007124</td>\n",
              "    </tr>\n",
              "    <tr>\n",
              "      <th>166</th>\n",
              "      <td>cigarett smoke</td>\n",
              "      <td>0.004392</td>\n",
              "    </tr>\n",
              "    <tr>\n",
              "      <th>62</th>\n",
              "      <td>air condition</td>\n",
              "      <td>0.004214</td>\n",
              "    </tr>\n",
              "    <tr>\n",
              "      <th>87</th>\n",
              "      <td>smoke room</td>\n",
              "      <td>0.004214</td>\n",
              "    </tr>\n",
              "    <tr>\n",
              "      <th>76</th>\n",
              "      <td>first room</td>\n",
              "      <td>0.003927</td>\n",
              "    </tr>\n",
              "    <tr>\n",
              "      <th>237</th>\n",
              "      <td>hard time</td>\n",
              "      <td>0.003657</td>\n",
              "    </tr>\n",
              "    <tr>\n",
              "      <th>220</th>\n",
              "      <td>non smoke room</td>\n",
              "      <td>0.003657</td>\n",
              "    </tr>\n",
              "    <tr>\n",
              "      <th>4</th>\n",
              "      <td>park lot</td>\n",
              "      <td>0.003642</td>\n",
              "    </tr>\n",
              "    <tr>\n",
              "      <th>37</th>\n",
              "      <td>next year</td>\n",
              "      <td>0.003641</td>\n",
              "    </tr>\n",
              "    <tr>\n",
              "      <th>32</th>\n",
              "      <td>villag inn</td>\n",
              "      <td>0.003234</td>\n",
              "    </tr>\n",
              "  </tbody>\n",
              "</table>\n",
              "</div>"
            ],
            "text/plain": [
              "               Word  MI Score\n",
              "0        front desk  0.007124\n",
              "166  cigarett smoke  0.004392\n",
              "62    air condition  0.004214\n",
              "87       smoke room  0.004214\n",
              "76       first room  0.003927\n",
              "237       hard time  0.003657\n",
              "220  non smoke room  0.003657\n",
              "4          park lot  0.003642\n",
              "37        next year  0.003641\n",
              "32       villag inn  0.003234"
            ]
          },
          "metadata": {
            "tags": []
          },
          "execution_count": 85
        }
      ]
    },
    {
      "cell_type": "markdown",
      "metadata": {
        "id": "xphW01803nom",
        "colab_type": "text"
      },
      "source": [
        "As discussed before, front desk plays major role in defining good or bad hotel, while the smoking, from both cigarett smoke and smoke room, playing an even higher weight if combined. This is very understandable as no matter how great a front desk staff be, entering a room full of cigarett smell will not be pleasant."
      ]
    },
    {
      "cell_type": "markdown",
      "metadata": {
        "id": "VSIuMPyw-nTK",
        "colab_type": "text"
      },
      "source": [
        "##Q4. Pointwise Mutual Information"
      ]
    },
    {
      "cell_type": "markdown",
      "metadata": {
        "id": "HTvBHMaV-p0B",
        "colab_type": "text"
      },
      "source": [
        "###(a)"
      ]
    },
    {
      "cell_type": "code",
      "metadata": {
        "id": "5RXEBC_p-rmU",
        "colab_type": "code",
        "colab": {}
      },
      "source": [
        "# Simple example of getting pairwise mutual information of a term\n",
        "def pmiCal(df, x):\n",
        "    pmilist=[]\n",
        "    for i in [1,0]:\n",
        "        for j in [0,1]:\n",
        "            px = sum(df['groundTruth']==i)/len(df)\n",
        "            py = sum(df[x]==j)/len(df)\n",
        "            pxy = len(df[(df['groundTruth']==i) & (df[x]==j)])/len(df)\n",
        "            if pxy==0:#Log 0 cannot happen\n",
        "                pmi = math.log((pxy+0.0001)/(px*py))\n",
        "            else:\n",
        "                pmi = math.log(pxy/(px*py))\n",
        "            pmilist.append([i]+[j]+[px]+[py]+[pxy]+[pmi])\n",
        "    pmidf = pd.DataFrame(pmilist)\n",
        "    pmidf.columns = ['x','y','px','py','pxy','pmi']\n",
        "    return pmidf\n",
        "\n",
        "\n",
        "def pmiIndivCal(df,x,gt, label_column='groundTruth'):\n",
        "    px = sum(df[label_column]==gt)/len(df)\n",
        "    py = sum(df[x]==1)/len(df)\n",
        "    pxy = len(df[(df[label_column]==gt) & (df[x]==1)])/len(df)\n",
        "    if pxy==0:#Log 0 cannot happen\n",
        "        pmi = math.log((pxy+0.0001)/(px*py))\n",
        "    else:\n",
        "        pmi = math.log(pxy/(px*py))\n",
        "    return pmi\n",
        "\n",
        "\n",
        "# Compute PMI for all terms and all possible labels\n",
        "def pmiForAllCal(df, label_column='groundTruth', topk=topk):\n",
        "    #Try calculate all the pmi for top k and store them into one pmidf dataframe\n",
        "    pmilist = []\n",
        "    pmiposlist = []\n",
        "    pmineglist = []\n",
        "    for word in tqdm(topk):\n",
        "        pmilist.append([word[0]]+[pmiCal(df,word[0])])\n",
        "        pmiposlist.append([word[0]]+[pmiIndivCal(df,word[0],1,label_column)])\n",
        "        pmineglist.append([word[0]]+[pmiIndivCal(df,word[0],0,label_column)])\n",
        "    pmidf = pd.DataFrame(pmilist)\n",
        "    pmiposlist = pd.DataFrame(pmiposlist)\n",
        "    pmineglist = pd.DataFrame(pmineglist)\n",
        "    pmiposlist.columns = ['word','pmi']\n",
        "    pmineglist.columns = ['word','pmi']\n",
        "    pmidf.columns = ['word','pmi']\n",
        "    return pmiposlist, pmineglist, pmidf"
      ],
      "execution_count": 0,
      "outputs": []
    },
    {
      "cell_type": "code",
      "metadata": {
        "id": "pAwKrwXt72bk",
        "colab_type": "code",
        "outputId": "d4d87d5c-14ff-4092-9c33-d43539cbb7a1",
        "colab": {
          "base_uri": "https://localhost:8080/",
          "height": 35
        }
      },
      "source": [
        "pmiposlist, pmineglist, pmidf = pmiForAllCal(finaldf, topk=topk)"
      ],
      "execution_count": 0,
      "outputs": [
        {
          "output_type": "stream",
          "text": [
            "100%|██████████| 8646/8646 [10:23<00:00, 12.78it/s]\n"
          ],
          "name": "stderr"
        }
      ]
    },
    {
      "cell_type": "code",
      "metadata": {
        "id": "eOj-lcRDLbXk",
        "colab_type": "code",
        "colab": {
          "base_uri": "https://localhost:8080/",
          "height": 163
        },
        "outputId": "eb7a39d0-361d-43f8-e817-a9c249b0531b"
      },
      "source": [
        "finaldf[(finaldf['groundTruth']==1) & (finaldf['oasis']==1)]['reviewColumn']"
      ],
      "execution_count": 166,
      "outputs": [
        {
          "output_type": "execute_result",
          "data": {
            "text/plain": [
              "384    \"Sunny and Peter Montgomery run an amazingly t...\n",
              "388    \"Truly an experience not to be missed if you'r...\n",
              "427    \"Sunny and Peter truly have a passion and love...\n",
              "443    \"Sunny and Peter were the perfect hosts. Our r...\n",
              "444    \"After needing to change business travel plans...\n",
              "462    \"Ontario has many wonderful Spas, B & B's, and...\n",
              "523    \"This staff makes it easy to check in and out ...\n",
              "Name: reviewColumn, dtype: object"
            ]
          },
          "metadata": {
            "tags": []
          },
          "execution_count": 166
        }
      ]
    },
    {
      "cell_type": "code",
      "metadata": {
        "id": "NuNXgpVK8weC",
        "colab_type": "code",
        "outputId": "ba38f54b-6ca8-4536-d928-6b0088c193bb",
        "colab": {
          "base_uri": "https://localhost:8080/",
          "height": 198
        }
      },
      "source": [
        "#Sorted top pmi words for positive reviews\n",
        "pmiposlist.sort_values('pmi',ascending=0).head(5)"
      ],
      "execution_count": 108,
      "outputs": [
        {
          "output_type": "execute_result",
          "data": {
            "text/html": [
              "<div>\n",
              "<style scoped>\n",
              "    .dataframe tbody tr th:only-of-type {\n",
              "        vertical-align: middle;\n",
              "    }\n",
              "\n",
              "    .dataframe tbody tr th {\n",
              "        vertical-align: top;\n",
              "    }\n",
              "\n",
              "    .dataframe thead th {\n",
              "        text-align: right;\n",
              "    }\n",
              "</style>\n",
              "<table border=\"1\" class=\"dataframe\">\n",
              "  <thead>\n",
              "    <tr style=\"text-align: right;\">\n",
              "      <th></th>\n",
              "      <th>word</th>\n",
              "      <th>pmi</th>\n",
              "    </tr>\n",
              "  </thead>\n",
              "  <tbody>\n",
              "    <tr>\n",
              "      <th>1771</th>\n",
              "      <td>unique</td>\n",
              "      <td>0.341662</td>\n",
              "    </tr>\n",
              "    <tr>\n",
              "      <th>1684</th>\n",
              "      <td>winery</td>\n",
              "      <td>0.341662</td>\n",
              "    </tr>\n",
              "    <tr>\n",
              "      <th>1810</th>\n",
              "      <td>smoothies</td>\n",
              "      <td>0.341662</td>\n",
              "    </tr>\n",
              "    <tr>\n",
              "      <th>1809</th>\n",
              "      <td>oasis</td>\n",
              "      <td>0.341662</td>\n",
              "    </tr>\n",
              "    <tr>\n",
              "      <th>1699</th>\n",
              "      <td>favorite</td>\n",
              "      <td>0.341662</td>\n",
              "    </tr>\n",
              "  </tbody>\n",
              "</table>\n",
              "</div>"
            ],
            "text/plain": [
              "           word       pmi\n",
              "1771     unique  0.341662\n",
              "1684     winery  0.341662\n",
              "1810  smoothies  0.341662\n",
              "1809      oasis  0.341662\n",
              "1699   favorite  0.341662"
            ]
          },
          "metadata": {
            "tags": []
          },
          "execution_count": 108
        }
      ]
    },
    {
      "cell_type": "code",
      "metadata": {
        "id": "A1_P9ebm8xdx",
        "colab_type": "code",
        "outputId": "61d47646-b308-48af-e540-986ccbe7a9fd",
        "colab": {
          "base_uri": "https://localhost:8080/",
          "height": 198
        }
      },
      "source": [
        "#Sorted top pmi words for negative reviews\n",
        "pmineglist.sort_values('pmi',ascending=0).head(5)"
      ],
      "execution_count": 109,
      "outputs": [
        {
          "output_type": "execute_result",
          "data": {
            "text/html": [
              "<div>\n",
              "<style scoped>\n",
              "    .dataframe tbody tr th:only-of-type {\n",
              "        vertical-align: middle;\n",
              "    }\n",
              "\n",
              "    .dataframe tbody tr th {\n",
              "        vertical-align: top;\n",
              "    }\n",
              "\n",
              "    .dataframe thead th {\n",
              "        text-align: right;\n",
              "    }\n",
              "</style>\n",
              "<table border=\"1\" class=\"dataframe\">\n",
              "  <thead>\n",
              "    <tr style=\"text-align: right;\">\n",
              "      <th></th>\n",
              "      <th>word</th>\n",
              "      <th>pmi</th>\n",
              "    </tr>\n",
              "  </thead>\n",
              "  <tbody>\n",
              "    <tr>\n",
              "      <th>1784</th>\n",
              "      <td>stain</td>\n",
              "      <td>1.239905</td>\n",
              "    </tr>\n",
              "    <tr>\n",
              "      <th>1609</th>\n",
              "      <td>brown</td>\n",
              "      <td>1.239905</td>\n",
              "    </tr>\n",
              "    <tr>\n",
              "      <th>1614</th>\n",
              "      <td>curtain</td>\n",
              "      <td>1.239905</td>\n",
              "    </tr>\n",
              "    <tr>\n",
              "      <th>1461</th>\n",
              "      <td>hairs</td>\n",
              "      <td>1.239905</td>\n",
              "    </tr>\n",
              "    <tr>\n",
              "      <th>1714</th>\n",
              "      <td>clock</td>\n",
              "      <td>1.239905</td>\n",
              "    </tr>\n",
              "  </tbody>\n",
              "</table>\n",
              "</div>"
            ],
            "text/plain": [
              "         word       pmi\n",
              "1784    stain  1.239905\n",
              "1609    brown  1.239905\n",
              "1614  curtain  1.239905\n",
              "1461    hairs  1.239905\n",
              "1714    clock  1.239905"
            ]
          },
          "metadata": {
            "tags": []
          },
          "execution_count": 109
        }
      ]
    },
    {
      "cell_type": "markdown",
      "metadata": {
        "id": "kLd8djZd5xHP",
        "colab_type": "text"
      },
      "source": [
        "In the positive reviews winery and oasis are very locale-speci\fc. The Peterborough area has a lot of winery nearby as oasis refers to Oasis Pool & Garden Centres, which features 'hot tubs'! So hot tub in Q3 make sense now."
      ]
    },
    {
      "cell_type": "markdown",
      "metadata": {
        "id": "eOCja7zA-r9K",
        "colab_type": "text"
      },
      "source": [
        "###(b)"
      ]
    },
    {
      "cell_type": "code",
      "metadata": {
        "id": "CRojXy5v-tmQ",
        "colab_type": "code",
        "outputId": "8c3f8e8c-4a59-48ac-862b-2a90501ca413",
        "colab": {
          "base_uri": "https://localhost:8080/",
          "height": 35
        }
      },
      "source": [
        "pmiposlist_phrase, pmineglist_phrase, pmidf_phrase = pmiForAllCal(finaldf_phrase, topk=topk_phrase)"
      ],
      "execution_count": 111,
      "outputs": [
        {
          "output_type": "stream",
          "text": [
            "100%|██████████| 500/500 [00:09<00:00, 50.32it/s]\n"
          ],
          "name": "stderr"
        }
      ]
    },
    {
      "cell_type": "code",
      "metadata": {
        "id": "2lU1o-w6SHL7",
        "colab_type": "code",
        "outputId": "25935236-de57-40f7-80a3-62d5811b999b",
        "colab": {
          "base_uri": "https://localhost:8080/",
          "height": 348
        }
      },
      "source": [
        "#Sorted top pmi non phrase for positive reviews\n",
        "pmiposlist_phrase.sort_values('pmi',ascending=0).head(10)"
      ],
      "execution_count": 112,
      "outputs": [
        {
          "output_type": "execute_result",
          "data": {
            "text/html": [
              "<div>\n",
              "<style scoped>\n",
              "    .dataframe tbody tr th:only-of-type {\n",
              "        vertical-align: middle;\n",
              "    }\n",
              "\n",
              "    .dataframe tbody tr th {\n",
              "        vertical-align: top;\n",
              "    }\n",
              "\n",
              "    .dataframe thead th {\n",
              "        text-align: right;\n",
              "    }\n",
              "</style>\n",
              "<table border=\"1\" class=\"dataframe\">\n",
              "  <thead>\n",
              "    <tr style=\"text-align: right;\">\n",
              "      <th></th>\n",
              "      <th>word</th>\n",
              "      <th>pmi</th>\n",
              "    </tr>\n",
              "  </thead>\n",
              "  <tbody>\n",
              "    <tr>\n",
              "      <th>58</th>\n",
              "      <td>outdoor pool</td>\n",
              "      <td>0.341662</td>\n",
              "    </tr>\n",
              "    <tr>\n",
              "      <th>136</th>\n",
              "      <td>excel valu</td>\n",
              "      <td>0.341662</td>\n",
              "    </tr>\n",
              "    <tr>\n",
              "      <th>147</th>\n",
              "      <td>short walk</td>\n",
              "      <td>0.341662</td>\n",
              "    </tr>\n",
              "    <tr>\n",
              "      <th>151</th>\n",
              "      <td>help staff</td>\n",
              "      <td>0.341662</td>\n",
              "    </tr>\n",
              "    <tr>\n",
              "      <th>162</th>\n",
              "      <td>bedroom cottag</td>\n",
              "      <td>0.341662</td>\n",
              "    </tr>\n",
              "    <tr>\n",
              "      <th>249</th>\n",
              "      <td>third year</td>\n",
              "      <td>0.341662</td>\n",
              "    </tr>\n",
              "    <tr>\n",
              "      <th>265</th>\n",
              "      <td>lake ontario</td>\n",
              "      <td>0.341662</td>\n",
              "    </tr>\n",
              "    <tr>\n",
              "      <th>263</th>\n",
              "      <td>kid klub</td>\n",
              "      <td>0.341662</td>\n",
              "    </tr>\n",
              "    <tr>\n",
              "      <th>262</th>\n",
              "      <td>confer room</td>\n",
              "      <td>0.341662</td>\n",
              "    </tr>\n",
              "    <tr>\n",
              "      <th>251</th>\n",
              "      <td>march break</td>\n",
              "      <td>0.341662</td>\n",
              "    </tr>\n",
              "  </tbody>\n",
              "</table>\n",
              "</div>"
            ],
            "text/plain": [
              "               word       pmi\n",
              "58     outdoor pool  0.341662\n",
              "136      excel valu  0.341662\n",
              "147      short walk  0.341662\n",
              "151      help staff  0.341662\n",
              "162  bedroom cottag  0.341662\n",
              "249      third year  0.341662\n",
              "265    lake ontario  0.341662\n",
              "263        kid klub  0.341662\n",
              "262     confer room  0.341662\n",
              "251     march break  0.341662"
            ]
          },
          "metadata": {
            "tags": []
          },
          "execution_count": 112
        }
      ]
    },
    {
      "cell_type": "code",
      "metadata": {
        "id": "mPsz4tffSLIL",
        "colab_type": "code",
        "outputId": "38d420ed-9fd8-46dd-b01b-c7eb7007fe15",
        "colab": {
          "base_uri": "https://localhost:8080/",
          "height": 348
        }
      },
      "source": [
        "#Sorted top pmi non phrase for negative reviews\n",
        "pmineglist_phrase.sort_values('pmi',ascending=0).head(10)"
      ],
      "execution_count": 113,
      "outputs": [
        {
          "output_type": "execute_result",
          "data": {
            "text/html": [
              "<div>\n",
              "<style scoped>\n",
              "    .dataframe tbody tr th:only-of-type {\n",
              "        vertical-align: middle;\n",
              "    }\n",
              "\n",
              "    .dataframe tbody tr th {\n",
              "        vertical-align: top;\n",
              "    }\n",
              "\n",
              "    .dataframe thead th {\n",
              "        text-align: right;\n",
              "    }\n",
              "</style>\n",
              "<table border=\"1\" class=\"dataframe\">\n",
              "  <thead>\n",
              "    <tr style=\"text-align: right;\">\n",
              "      <th></th>\n",
              "      <th>word</th>\n",
              "      <th>pmi</th>\n",
              "    </tr>\n",
              "  </thead>\n",
              "  <tbody>\n",
              "    <tr>\n",
              "      <th>277</th>\n",
              "      <td>bathroom floor</td>\n",
              "      <td>1.239905</td>\n",
              "    </tr>\n",
              "    <tr>\n",
              "      <th>374</th>\n",
              "      <td>non smoke</td>\n",
              "      <td>1.239905</td>\n",
              "    </tr>\n",
              "    <tr>\n",
              "      <th>325</th>\n",
              "      <td>bad experi</td>\n",
              "      <td>1.239905</td>\n",
              "    </tr>\n",
              "    <tr>\n",
              "      <th>460</th>\n",
              "      <td>hot spot</td>\n",
              "      <td>1.239905</td>\n",
              "    </tr>\n",
              "    <tr>\n",
              "      <th>468</th>\n",
              "      <td>hour notic</td>\n",
              "      <td>1.239905</td>\n",
              "    </tr>\n",
              "    <tr>\n",
              "      <th>352</th>\n",
              "      <td>major renov</td>\n",
              "      <td>1.239905</td>\n",
              "    </tr>\n",
              "    <tr>\n",
              "      <th>457</th>\n",
              "      <td>bed bug</td>\n",
              "      <td>1.239905</td>\n",
              "    </tr>\n",
              "    <tr>\n",
              "      <th>412</th>\n",
              "      <td>room number</td>\n",
              "      <td>1.239905</td>\n",
              "    </tr>\n",
              "    <tr>\n",
              "      <th>237</th>\n",
              "      <td>hard time</td>\n",
              "      <td>1.239905</td>\n",
              "    </tr>\n",
              "    <tr>\n",
              "      <th>411</th>\n",
              "      <td>toilet tank</td>\n",
              "      <td>1.239905</td>\n",
              "    </tr>\n",
              "  </tbody>\n",
              "</table>\n",
              "</div>"
            ],
            "text/plain": [
              "               word       pmi\n",
              "277  bathroom floor  1.239905\n",
              "374       non smoke  1.239905\n",
              "325      bad experi  1.239905\n",
              "460        hot spot  1.239905\n",
              "468      hour notic  1.239905\n",
              "352     major renov  1.239905\n",
              "457         bed bug  1.239905\n",
              "412     room number  1.239905\n",
              "237       hard time  1.239905\n",
              "411     toilet tank  1.239905"
            ]
          },
          "metadata": {
            "tags": []
          },
          "execution_count": 113
        }
      ]
    },
    {
      "cell_type": "markdown",
      "metadata": {
        "id": "qSqZFzMqCRLX",
        "colab_type": "text"
      },
      "source": [
        "The top negative phrse has a very alarming phrase, bed bug! I heard it is a very big problem in the area."
      ]
    },
    {
      "cell_type": "markdown",
      "metadata": {
        "id": "ohhkzbM5-jZe",
        "colab_type": "text"
      },
      "source": [
        "###(c)"
      ]
    },
    {
      "cell_type": "code",
      "metadata": {
        "id": "rlVnmkPDaCHa",
        "colab_type": "code",
        "colab": {}
      },
      "source": [
        "hotelDfTop = hotelDf[hotelDf['hotelName']=='Stillwater on the Lake'].reset_index(drop=True)\n",
        "hotelDfBot = hotelDf[hotelDf['hotelName']=='Admiral Inn &amp; Conference Centre'].reset_index(drop=True)"
      ],
      "execution_count": 0,
      "outputs": []
    },
    {
      "cell_type": "code",
      "metadata": {
        "id": "o8Oi6-cOSQZQ",
        "colab_type": "code",
        "colab": {}
      },
      "source": [
        "topk_top, topHoteldf_word = dataFrameTransformation(hotelDfTop, k=10000)\n",
        "topk_phrase_top, topk_phrase_pos_top, topk_phrase_neg_top, topHoteldf_phrase = newDataFrameTransformation(hotelDfTop)\n",
        "\n",
        "\n",
        "topk_bot, botHoteldf_word = dataFrameTransformation(hotelDfBot, k=10000)\n",
        "topk_phrase_bot, topk_phrase_pos_bot, topk_phrase_neg_bot, botHoteldf_phrase = newDataFrameTransformation(hotelDfBot)"
      ],
      "execution_count": 0,
      "outputs": []
    },
    {
      "cell_type": "code",
      "metadata": {
        "id": "72hkmfcX-lYn",
        "colab_type": "code",
        "outputId": "3b1b83ae-0911-43eb-8591-ead0d2740ffa",
        "colab": {
          "base_uri": "https://localhost:8080/",
          "height": 54
        }
      },
      "source": [
        "pmiposlistTop, pmineglistTop, pmidfTop = pmiForAllCal(topHoteldf_word, topk=topk_top)\n",
        "pmiposlist_phraseTop, pmineglist_phraseTop, pmidf_phraseTop = pmiForAllCal(topHoteldf_phrase, topk=topk_phrase_top)"
      ],
      "execution_count": 116,
      "outputs": [
        {
          "output_type": "stream",
          "text": [
            "100%|██████████| 1977/1977 [00:29<00:00, 66.94it/s]\n",
            "100%|██████████| 500/500 [00:06<00:00, 73.40it/s]\n"
          ],
          "name": "stderr"
        }
      ]
    },
    {
      "cell_type": "code",
      "metadata": {
        "id": "V8hYM9SAeJnT",
        "colab_type": "code",
        "outputId": "d8cb7649-85fd-477f-a6a9-e4142278c85b",
        "colab": {
          "base_uri": "https://localhost:8080/",
          "height": 54
        }
      },
      "source": [
        "pmiposlistBot, pmineglistBot, pmidfBot = pmiForAllCal(botHoteldf_word, topk=topk_bot)\n",
        "pmiposlist_phraseBot, pmineglist_phraseBot, pmidf_phraseBot = pmiForAllCal(botHoteldf_phrase, topk=topk_phrase_bot)"
      ],
      "execution_count": 117,
      "outputs": [
        {
          "output_type": "stream",
          "text": [
            "100%|██████████| 1111/1111 [00:14<00:00, 76.16it/s]\n",
            "100%|██████████| 338/338 [00:04<00:00, 81.97it/s]\n"
          ],
          "name": "stderr"
        }
      ]
    },
    {
      "cell_type": "code",
      "metadata": {
        "id": "8jJn5VYDc-ld",
        "colab_type": "code",
        "outputId": "4bd543ae-c80f-46ae-c53a-9cbff1aea63c",
        "colab": {
          "base_uri": "https://localhost:8080/",
          "height": 648
        }
      },
      "source": [
        "pmiposlist_phraseTop.sort_values('pmi',ascending=0).head(20)"
      ],
      "execution_count": 118,
      "outputs": [
        {
          "output_type": "execute_result",
          "data": {
            "text/html": [
              "<div>\n",
              "<style scoped>\n",
              "    .dataframe tbody tr th:only-of-type {\n",
              "        vertical-align: middle;\n",
              "    }\n",
              "\n",
              "    .dataframe tbody tr th {\n",
              "        vertical-align: top;\n",
              "    }\n",
              "\n",
              "    .dataframe thead th {\n",
              "        text-align: right;\n",
              "    }\n",
              "</style>\n",
              "<table border=\"1\" class=\"dataframe\">\n",
              "  <thead>\n",
              "    <tr style=\"text-align: right;\">\n",
              "      <th></th>\n",
              "      <th>word</th>\n",
              "      <th>pmi</th>\n",
              "    </tr>\n",
              "  </thead>\n",
              "  <tbody>\n",
              "    <tr>\n",
              "      <th>0</th>\n",
              "      <td>hot tub</td>\n",
              "      <td>0.01005</td>\n",
              "    </tr>\n",
              "    <tr>\n",
              "      <th>16</th>\n",
              "      <td>next time</td>\n",
              "      <td>0.01005</td>\n",
              "    </tr>\n",
              "    <tr>\n",
              "      <th>1</th>\n",
              "      <td>beauti place</td>\n",
              "      <td>0.01005</td>\n",
              "    </tr>\n",
              "    <tr>\n",
              "      <th>29</th>\n",
              "      <td>peterborough area</td>\n",
              "      <td>0.01005</td>\n",
              "    </tr>\n",
              "    <tr>\n",
              "      <th>28</th>\n",
              "      <td>next stay</td>\n",
              "      <td>0.01005</td>\n",
              "    </tr>\n",
              "    <tr>\n",
              "      <th>27</th>\n",
              "      <td>egg benedict</td>\n",
              "      <td>0.01005</td>\n",
              "    </tr>\n",
              "    <tr>\n",
              "      <th>25</th>\n",
              "      <td>star rate</td>\n",
              "      <td>0.01005</td>\n",
              "    </tr>\n",
              "    <tr>\n",
              "      <th>24</th>\n",
              "      <td>picnic basket</td>\n",
              "      <td>0.01005</td>\n",
              "    </tr>\n",
              "    <tr>\n",
              "      <th>23</th>\n",
              "      <td>graciou host</td>\n",
              "      <td>0.01005</td>\n",
              "    </tr>\n",
              "    <tr>\n",
              "      <th>22</th>\n",
              "      <td>hot chocol</td>\n",
              "      <td>0.01005</td>\n",
              "    </tr>\n",
              "    <tr>\n",
              "      <th>21</th>\n",
              "      <td>first time</td>\n",
              "      <td>0.01005</td>\n",
              "    </tr>\n",
              "    <tr>\n",
              "      <th>20</th>\n",
              "      <td>welcom host</td>\n",
              "      <td>0.01005</td>\n",
              "    </tr>\n",
              "    <tr>\n",
              "      <th>19</th>\n",
              "      <td>top notch</td>\n",
              "      <td>0.01005</td>\n",
              "    </tr>\n",
              "    <tr>\n",
              "      <th>18</th>\n",
              "      <td>deck side suit</td>\n",
              "      <td>0.01005</td>\n",
              "    </tr>\n",
              "    <tr>\n",
              "      <th>17</th>\n",
              "      <td>wonder host</td>\n",
              "      <td>0.01005</td>\n",
              "    </tr>\n",
              "    <tr>\n",
              "      <th>26</th>\n",
              "      <td>fantast breakfast</td>\n",
              "      <td>0.01005</td>\n",
              "    </tr>\n",
              "    <tr>\n",
              "      <th>15</th>\n",
              "      <td>mini fridg</td>\n",
              "      <td>0.01005</td>\n",
              "    </tr>\n",
              "    <tr>\n",
              "      <th>4</th>\n",
              "      <td>decksid suit</td>\n",
              "      <td>0.01005</td>\n",
              "    </tr>\n",
              "    <tr>\n",
              "      <th>13</th>\n",
              "      <td>littl piec</td>\n",
              "      <td>0.01005</td>\n",
              "    </tr>\n",
              "    <tr>\n",
              "      <th>14</th>\n",
              "      <td>star hotel</td>\n",
              "      <td>0.01005</td>\n",
              "    </tr>\n",
              "  </tbody>\n",
              "</table>\n",
              "</div>"
            ],
            "text/plain": [
              "                 word      pmi\n",
              "0             hot tub  0.01005\n",
              "16          next time  0.01005\n",
              "1        beauti place  0.01005\n",
              "29  peterborough area  0.01005\n",
              "28          next stay  0.01005\n",
              "27       egg benedict  0.01005\n",
              "25          star rate  0.01005\n",
              "24      picnic basket  0.01005\n",
              "23       graciou host  0.01005\n",
              "22         hot chocol  0.01005\n",
              "21         first time  0.01005\n",
              "20        welcom host  0.01005\n",
              "19          top notch  0.01005\n",
              "18     deck side suit  0.01005\n",
              "17        wonder host  0.01005\n",
              "26  fantast breakfast  0.01005\n",
              "15         mini fridg  0.01005\n",
              "4        decksid suit  0.01005\n",
              "13         littl piec  0.01005\n",
              "14         star hotel  0.01005"
            ]
          },
          "metadata": {
            "tags": []
          },
          "execution_count": 118
        }
      ]
    },
    {
      "cell_type": "code",
      "metadata": {
        "id": "k8EqWUg09o8M",
        "colab_type": "code",
        "outputId": "e58f22eb-6abf-460e-9626-166c3e49d1d1",
        "colab": {
          "base_uri": "https://localhost:8080/",
          "height": 648
        }
      },
      "source": [
        "pmineglist_phraseBot.sort_values('pmi',ascending=0).head(20)"
      ],
      "execution_count": 147,
      "outputs": [
        {
          "output_type": "execute_result",
          "data": {
            "text/html": [
              "<div>\n",
              "<style scoped>\n",
              "    .dataframe tbody tr th:only-of-type {\n",
              "        vertical-align: middle;\n",
              "    }\n",
              "\n",
              "    .dataframe tbody tr th {\n",
              "        vertical-align: top;\n",
              "    }\n",
              "\n",
              "    .dataframe thead th {\n",
              "        text-align: right;\n",
              "    }\n",
              "</style>\n",
              "<table border=\"1\" class=\"dataframe\">\n",
              "  <thead>\n",
              "    <tr style=\"text-align: right;\">\n",
              "      <th></th>\n",
              "      <th>word</th>\n",
              "      <th>pmi</th>\n",
              "    </tr>\n",
              "  </thead>\n",
              "  <tbody>\n",
              "    <tr>\n",
              "      <th>169</th>\n",
              "      <td>non function wi fi</td>\n",
              "      <td>0.470004</td>\n",
              "    </tr>\n",
              "    <tr>\n",
              "      <th>193</th>\n",
              "      <td>noisi window</td>\n",
              "      <td>0.470004</td>\n",
              "    </tr>\n",
              "    <tr>\n",
              "      <th>176</th>\n",
              "      <td>bathroom sink</td>\n",
              "      <td>0.470004</td>\n",
              "    </tr>\n",
              "    <tr>\n",
              "      <th>177</th>\n",
              "      <td>broken hanger</td>\n",
              "      <td>0.470004</td>\n",
              "    </tr>\n",
              "    <tr>\n",
              "      <th>178</th>\n",
              "      <td>good element</td>\n",
              "      <td>0.470004</td>\n",
              "    </tr>\n",
              "    <tr>\n",
              "      <th>179</th>\n",
              "      <td>mini fridg</td>\n",
              "      <td>0.470004</td>\n",
              "    </tr>\n",
              "    <tr>\n",
              "      <th>180</th>\n",
              "      <td>top nthey</td>\n",
              "      <td>0.470004</td>\n",
              "    </tr>\n",
              "    <tr>\n",
              "      <th>184</th>\n",
              "      <td>first room</td>\n",
              "      <td>0.470004</td>\n",
              "    </tr>\n",
              "    <tr>\n",
              "      <th>185</th>\n",
              "      <td>faulti fridg</td>\n",
              "      <td>0.470004</td>\n",
              "    </tr>\n",
              "    <tr>\n",
              "      <th>186</th>\n",
              "      <td>fruit basket</td>\n",
              "      <td>0.470004</td>\n",
              "    </tr>\n",
              "    <tr>\n",
              "      <th>187</th>\n",
              "      <td>second morn</td>\n",
              "      <td>0.470004</td>\n",
              "    </tr>\n",
              "    <tr>\n",
              "      <th>188</th>\n",
              "      <td>new flat screen hitachi tv</td>\n",
              "      <td>0.470004</td>\n",
              "    </tr>\n",
              "    <tr>\n",
              "      <th>189</th>\n",
              "      <td>analog cabl</td>\n",
              "      <td>0.470004</td>\n",
              "    </tr>\n",
              "    <tr>\n",
              "      <th>190</th>\n",
              "      <td>honeymoon suit</td>\n",
              "      <td>0.470004</td>\n",
              "    </tr>\n",
              "    <tr>\n",
              "      <th>191</th>\n",
              "      <td>honeymoon vibe</td>\n",
              "      <td>0.470004</td>\n",
              "    </tr>\n",
              "    <tr>\n",
              "      <th>192</th>\n",
              "      <td>replac heat</td>\n",
              "      <td>0.470004</td>\n",
              "    </tr>\n",
              "    <tr>\n",
              "      <th>194</th>\n",
              "      <td>bedroom side leather furnitur</td>\n",
              "      <td>0.470004</td>\n",
              "    </tr>\n",
              "    <tr>\n",
              "      <th>174</th>\n",
              "      <td>dirti feel</td>\n",
              "      <td>0.470004</td>\n",
              "    </tr>\n",
              "    <tr>\n",
              "      <th>195</th>\n",
              "      <td>live room area</td>\n",
              "      <td>0.470004</td>\n",
              "    </tr>\n",
              "    <tr>\n",
              "      <th>196</th>\n",
              "      <td>noth fanci everi inch</td>\n",
              "      <td>0.470004</td>\n",
              "    </tr>\n",
              "  </tbody>\n",
              "</table>\n",
              "</div>"
            ],
            "text/plain": [
              "                              word       pmi\n",
              "169             non function wi fi  0.470004\n",
              "193                   noisi window  0.470004\n",
              "176                  bathroom sink  0.470004\n",
              "177                  broken hanger  0.470004\n",
              "178                   good element  0.470004\n",
              "179                     mini fridg  0.470004\n",
              "180                      top nthey  0.470004\n",
              "184                     first room  0.470004\n",
              "185                   faulti fridg  0.470004\n",
              "186                   fruit basket  0.470004\n",
              "187                    second morn  0.470004\n",
              "188     new flat screen hitachi tv  0.470004\n",
              "189                    analog cabl  0.470004\n",
              "190                 honeymoon suit  0.470004\n",
              "191                 honeymoon vibe  0.470004\n",
              "192                    replac heat  0.470004\n",
              "194  bedroom side leather furnitur  0.470004\n",
              "174                     dirti feel  0.470004\n",
              "195                 live room area  0.470004\n",
              "196          noth fanci everi inch  0.470004"
            ]
          },
          "metadata": {
            "tags": []
          },
          "execution_count": 147
        }
      ]
    },
    {
      "cell_type": "markdown",
      "metadata": {
        "id": "7gECZQsSEVKO",
        "colab_type": "text"
      },
      "source": [
        "The top hotel Stillwater on the Lake has hot tub, delicious food (egg benedict, picnic basket, hot chocol and fantast breakfast)makes people want to come back next time or for next stay.\n",
        "\n",
        "The bottom hotel Admiral Inn &amp; Conference Centre has not function wifi, noisy window and broken hanger which is definetly not a good sign for a good hotel.\n",
        "\n"
      ]
    },
    {
      "cell_type": "markdown",
      "metadata": {
        "id": "3brH_gQa-zpb",
        "colab_type": "text"
      },
      "source": [
        "##Q5. General Plots"
      ]
    },
    {
      "cell_type": "markdown",
      "metadata": {
        "id": "XwMXfAne-1S9",
        "colab_type": "text"
      },
      "source": [
        "###(a)Histogram"
      ]
    },
    {
      "cell_type": "markdown",
      "metadata": {
        "id": "hQL2HmMg-3C9",
        "colab_type": "text"
      },
      "source": [
        "####(a)"
      ]
    },
    {
      "cell_type": "code",
      "metadata": {
        "id": "CPXVYnFX-4o1",
        "colab_type": "code",
        "colab": {}
      },
      "source": [
        "def getHistogram(measure, title):\n",
        "    if measure=='both':\n",
        "        x = [finaldf['ratingScore'].values/5]\n",
        "        y = [finaldf['vader'].values]\n",
        "        bins = np.linspace(-1, 1, 100)\n",
        "        plt.title(title)\n",
        "        plt.hist(x, bins, label='x')\n",
        "        plt.hist(y, bins, label='y')\n",
        "        plt.legend(loc='upper right')\n",
        "        plt.show()\n",
        "    \n",
        "    else:\n",
        "        plt.hist(finaldf[measure].values)\n",
        "        plt.title(title)\n",
        "        plt.xlabel(\"Value\")\n",
        "        plt.ylabel(\"Frequency\")\n",
        "        fig = plt.gcf()"
      ],
      "execution_count": 0,
      "outputs": []
    },
    {
      "cell_type": "code",
      "metadata": {
        "id": "ne79AUK3BqaB",
        "colab_type": "code",
        "outputId": "adfe2d80-949e-4d61-b414-e16c145bb05f",
        "colab": {
          "base_uri": "https://localhost:8080/",
          "height": 295
        }
      },
      "source": [
        "getHistogram('ratingScore', 'Ground Truth')"
      ],
      "execution_count": 121,
      "outputs": [
        {
          "output_type": "display_data",
          "data": {
            "image/png": "[encoded data removed]",
            "text/plain": [
              "<Figure size 432x288 with 1 Axes>"
            ]
          },
          "metadata": {
            "tags": []
          }
        }
      ]
    },
    {
      "cell_type": "code",
      "metadata": {
        "id": "zN-SjeJ1Btj-",
        "colab_type": "code",
        "outputId": "8271713a-85f5-4e0c-c55c-c1761f370beb",
        "colab": {
          "base_uri": "https://localhost:8080/",
          "height": 295
        }
      },
      "source": [
        "getHistogram('vader', 'Vadar Sentiment Analysis')"
      ],
      "execution_count": 122,
      "outputs": [
        {
          "output_type": "display_data",
          "data": {
            "image/png": "[encoded data removed]",
            "text/plain": [
              "<Figure size 432x288 with 1 Axes>"
            ]
          },
          "metadata": {
            "tags": []
          }
        }
      ]
    },
    {
      "cell_type": "code",
      "metadata": {
        "id": "p8F-ph7sB8kT",
        "colab_type": "code",
        "outputId": "87e4d0bb-07be-411f-9688-221f5523a643",
        "colab": {
          "base_uri": "https://localhost:8080/",
          "height": 281
        }
      },
      "source": [
        "getHistogram('both', 'Ground Truth v.s Vader')"
      ],
      "execution_count": 123,
      "outputs": [
        {
          "output_type": "display_data",
          "data": {
            "image/png": "[encoded data removed]",
            "text/plain": [
              "<Figure size 432x288 with 1 Axes>"
            ]
          },
          "metadata": {
            "tags": []
          }
        }
      ]
    },
    {
      "cell_type": "markdown",
      "metadata": {
        "id": "7_8cowpXGi3k",
        "colab_type": "text"
      },
      "source": [
        "Most reviews are good as all the plots skewed to the right. A good experience tend to have people leave comments."
      ]
    },
    {
      "cell_type": "markdown",
      "metadata": {
        "id": "ZXHMTNpR-4ze",
        "colab_type": "text"
      },
      "source": [
        "####(b)"
      ]
    },
    {
      "cell_type": "code",
      "metadata": {
        "id": "kmLehvQU-7T7",
        "colab_type": "code",
        "outputId": "5151f206-4719-49d8-8b77-2cd2d1e7d3ec",
        "colab": {
          "base_uri": "https://localhost:8080/",
          "height": 295
        }
      },
      "source": [
        "plt.hist(hotelDf.hotelName.value_counts())\n",
        "plt.title('Hotel Review Counts')\n",
        "plt.xlabel(\"Review Count\")\n",
        "plt.ylabel(\"Number of Hotels\")\n",
        "fig = plt.gcf()\n"
      ],
      "execution_count": 124,
      "outputs": [
        {
          "output_type": "display_data",
          "data": {
            "image/png": "[encoded data removed]",
            "text/plain": [
              "<Figure size 432x288 with 1 Axes>"
            ]
          },
          "metadata": {
            "tags": []
          }
        }
      ]
    },
    {
      "cell_type": "markdown",
      "metadata": {
        "id": "LwpRANgkG6v3",
        "colab_type": "text"
      },
      "source": [
        "Hotel with good rating tend to get more reviews. As stated before, the more the reviews a hotel has, the better the hotel tend to be. It can resulted from people attracked by good reviews."
      ]
    },
    {
      "cell_type": "markdown",
      "metadata": {
        "id": "2bd5iY1Z-8GS",
        "colab_type": "text"
      },
      "source": [
        "###(b)Boxplots"
      ]
    },
    {
      "cell_type": "markdown",
      "metadata": {
        "id": "bCdXjl9aD-K6",
        "colab_type": "text"
      },
      "source": [
        "####(a)"
      ]
    },
    {
      "cell_type": "code",
      "metadata": {
        "id": "xFTfsHGExq0B",
        "colab_type": "code",
        "outputId": "5ee7e4fa-cef1-4042-8cdf-1deea5579e56",
        "colab": {
          "base_uri": "https://localhost:8080/",
          "height": 545
        }
      },
      "source": [
        "#Plot top 5 side-by-side boxplot for top 5 ground truth rated hotel\n",
        "i=1\n",
        "for conf in ['ratingScore', 'vader']:\n",
        "  tp5gthotel = hotelMeanScore.sort_values(by=conf, ascending=False).head(5)\n",
        "\n",
        "  top1 = hotelDf.loc[hotelDf['hotelName'] == tp5gthotel['hotelName'].values[0]][conf]\n",
        "  top2 = hotelDf.loc[hotelDf['hotelName'] == tp5gthotel['hotelName'].values[1]][conf]\n",
        "  top3 = hotelDf.loc[hotelDf['hotelName'] == tp5gthotel['hotelName'].values[2]][conf]\n",
        "  top4 = hotelDf.loc[hotelDf['hotelName'] == tp5gthotel['hotelName'].values[3]][conf]\n",
        "  top5 = hotelDf.loc[hotelDf['hotelName'] == tp5gthotel['hotelName'].values[4]][conf]\n",
        "\n",
        "  data = [top1, top2, top3, top4, top5]\n",
        "  # multiple box plots on one figure\n",
        "  x = plt.figure(i)\n",
        "  plt.boxplot(data)\n",
        "  plt.title(conf)\n",
        "  x.show()\n",
        "  i+=1"
      ],
      "execution_count": 125,
      "outputs": [
        {
          "output_type": "display_data",
          "data": {
            "image/png": "[encoded data removed]",
            "text/plain": [
              "<Figure size 432x288 with 1 Axes>"
            ]
          },
          "metadata": {
            "tags": []
          }
        },
        {
          "output_type": "display_data",
          "data": {
            "image/png": "[encoded data removed]",
            "text/plain": [
              "<Figure size 432x288 with 1 Axes>"
            ]
          },
          "metadata": {
            "tags": []
          }
        }
      ]
    },
    {
      "cell_type": "markdown",
      "metadata": {
        "id": "O0QjXUJ9EDYh",
        "colab_type": "text"
      },
      "source": [
        "####(b)"
      ]
    },
    {
      "cell_type": "code",
      "metadata": {
        "id": "BVpW4SrcECGe",
        "colab_type": "code",
        "outputId": "bac480b1-a682-4bcb-fd74-726ee346cde9",
        "colab": {
          "base_uri": "https://localhost:8080/",
          "height": 108
        }
      },
      "source": [
        "top5star = hotelMeanScore.sort_values(by='ratingScore', ascending=False).head(5)\n",
        "hotelDf[hotelDf['hotelName'].isin(top5star['hotelName'].values)].describe().loc[['mean','std']]\n"
      ],
      "execution_count": 127,
      "outputs": [
        {
          "output_type": "execute_result",
          "data": {
            "text/html": [
              "<div>\n",
              "<style scoped>\n",
              "    .dataframe tbody tr th:only-of-type {\n",
              "        vertical-align: middle;\n",
              "    }\n",
              "\n",
              "    .dataframe tbody tr th {\n",
              "        vertical-align: top;\n",
              "    }\n",
              "\n",
              "    .dataframe thead th {\n",
              "        text-align: right;\n",
              "    }\n",
              "</style>\n",
              "<table border=\"1\" class=\"dataframe\">\n",
              "  <thead>\n",
              "    <tr style=\"text-align: right;\">\n",
              "      <th></th>\n",
              "      <th>ratingScore</th>\n",
              "      <th>groundTruth</th>\n",
              "      <th>vader</th>\n",
              "      <th>reviewLength</th>\n",
              "    </tr>\n",
              "  </thead>\n",
              "  <tbody>\n",
              "    <tr>\n",
              "      <th>mean</th>\n",
              "      <td>4.627451</td>\n",
              "      <td>0.936275</td>\n",
              "      <td>0.879765</td>\n",
              "      <td>100.514706</td>\n",
              "    </tr>\n",
              "    <tr>\n",
              "      <th>std</th>\n",
              "      <td>0.696380</td>\n",
              "      <td>0.244563</td>\n",
              "      <td>0.274353</td>\n",
              "      <td>99.888782</td>\n",
              "    </tr>\n",
              "  </tbody>\n",
              "</table>\n",
              "</div>"
            ],
            "text/plain": [
              "      ratingScore  groundTruth     vader  reviewLength\n",
              "mean     4.627451     0.936275  0.879765    100.514706\n",
              "std      0.696380     0.244563  0.274353     99.888782"
            ]
          },
          "metadata": {
            "tags": []
          },
          "execution_count": 127
        }
      ]
    },
    {
      "cell_type": "markdown",
      "metadata": {
        "id": "BzUqYrlbHfBA",
        "colab_type": "text"
      },
      "source": [
        "####(c)"
      ]
    },
    {
      "cell_type": "markdown",
      "metadata": {
        "id": "F8jlc67qHij0",
        "colab_type": "text"
      },
      "source": [
        "The boxplot is much more informative as it not only reports the mean and variance, but also the maximum, minimum, 95% confidence interval and also the overall distribution of the data points."
      ]
    },
    {
      "cell_type": "markdown",
      "metadata": {
        "id": "A90R38sTKHny",
        "colab_type": "text"
      },
      "source": [
        "###(c)Scatterplots and heatmaps"
      ]
    },
    {
      "cell_type": "markdown",
      "metadata": {
        "id": "HXNSZFoCKLdR",
        "colab_type": "text"
      },
      "source": [
        "####(a)"
      ]
    },
    {
      "cell_type": "code",
      "metadata": {
        "id": "BUDztR_4LM2g",
        "colab_type": "code",
        "outputId": "1673ecb3-635f-4861-ea35-ab6784e3166d",
        "colab": {
          "base_uri": "https://localhost:8080/",
          "height": 297
        }
      },
      "source": [
        "y = hotelDf['ratingScore'].values\n",
        "x = hotelDf['vader'].values\n",
        "plt.plot(x, y,\"o\")\n",
        "plt.ylabel('Rating')\n",
        "plt.xlabel('Vader Score')"
      ],
      "execution_count": 128,
      "outputs": [
        {
          "output_type": "execute_result",
          "data": {
            "text/plain": [
              "Text(0.5, 0, 'Vader Score')"
            ]
          },
          "metadata": {
            "tags": []
          },
          "execution_count": 128
        },
        {
          "output_type": "display_data",
          "data": {
            "image/png": "[encoded data removed]",
            "text/plain": [
              "<Figure size 432x288 with 1 Axes>"
            ]
          },
          "metadata": {
            "tags": []
          }
        }
      ]
    },
    {
      "cell_type": "code",
      "metadata": {
        "id": "zKuwjwaHLSC-",
        "colab_type": "code",
        "colab": {}
      },
      "source": [
        "from scipy.stats.kde import gaussian_kde\n",
        "\n",
        "k = gaussian_kde(np.vstack([x, y]))\n",
        "xi, yi = np.mgrid[x.min():x.max():x.size**0.5*1j,y.min():y.max():y.size**0.5*1j]\n",
        "zi = k(np.vstack([xi.flatten(), yi.flatten()]))"
      ],
      "execution_count": 0,
      "outputs": []
    },
    {
      "cell_type": "code",
      "metadata": {
        "id": "QqnN6K9rLYAu",
        "colab_type": "code",
        "outputId": "9abbcafa-b55a-4dad-fbff-823ebc41e2cf",
        "colab": {
          "base_uri": "https://localhost:8080/",
          "height": 519
        }
      },
      "source": [
        "cmap = sns.cubehelix_palette(light=1, as_cmap=True)\n",
        "fig = plt.figure(figsize=(6,8))\n",
        "ax1 = fig.add_subplot(211)\n",
        "ax2 = fig.add_subplot(212)\n",
        "\n",
        "ax1.pcolormesh(xi, yi, np.log10(zi.reshape(xi.shape)), cmap=cmap)\n",
        "ax2.contourf(xi, yi, np.log10(zi.reshape(xi.shape)), cmap=cmap)\n",
        "\n",
        "ax1.set_xlim(x.min(), x.max())\n",
        "ax1.set_ylim(y.min(), y.max())\n",
        "ax2.set_xlim(x.min(), x.max())\n",
        "ax2.set_ylim(y.min(), y.max())\n",
        "\n",
        "ax1.set_xlabel('Vader Score')\n",
        "ax1.set_ylabel('Rating')\n",
        "\n",
        "ax2.set_xlabel('Vader Score')\n",
        "ax2.set_ylabel('Rating')"
      ],
      "execution_count": 130,
      "outputs": [
        {
          "output_type": "execute_result",
          "data": {
            "text/plain": [
              "Text(0, 0.5, 'Rating')"
            ]
          },
          "metadata": {
            "tags": []
          },
          "execution_count": 130
        },
        {
          "output_type": "display_data",
          "data": {
            "image/png": "[encoded data removed]",
            "text/plain": [
              "<Figure size 432x576 with 2 Axes>"
            ]
          },
          "metadata": {
            "tags": []
          }
        }
      ]
    },
    {
      "cell_type": "markdown",
      "metadata": {
        "id": "44crxmu0MOqf",
        "colab_type": "text"
      },
      "source": [
        "The scatter plot shows that the vader score is closer to the actual rating in higher ratings, like 4 or 5 stars.\n",
        "The heatmap shows that even though vader score thinks some rating has really high positive emotion, the actual rating is lower than its prediction. While the negative ratings tend to has higher than expected vader scores.\n",
        "Positives are much higher correlated than negatives."
      ]
    },
    {
      "cell_type": "markdown",
      "metadata": {
        "id": "P4PKagGINUFT",
        "colab_type": "text"
      },
      "source": [
        "####(b)"
      ]
    },
    {
      "cell_type": "code",
      "metadata": {
        "id": "x2LdV83HNTPf",
        "colab_type": "code",
        "colab": {}
      },
      "source": [
        "hotelDf['reviewLength'] = hotelDf['reviewColumn'].str.split().str.len()"
      ],
      "execution_count": 0,
      "outputs": []
    },
    {
      "cell_type": "code",
      "metadata": {
        "id": "C4CBZlwJQmPn",
        "colab_type": "code",
        "outputId": "9228816b-1992-4b84-b31e-0f2f5a7c78bd",
        "colab": {
          "base_uri": "https://localhost:8080/",
          "height": 655
        }
      },
      "source": [
        "i=1\n",
        "for rate in ['ratingScore', 'vader']:\n",
        "  y = hotelDf[rate].values\n",
        "  x = hotelDf['reviewLength'].values\n",
        "  fig = plt.figure(i,figsize=(16,5))\n",
        "  ax1 = fig.add_subplot(121)\n",
        "  ax2 = fig.add_subplot(122)\n",
        "\n",
        "  ax1.plot(x, y,\"o\")\n",
        "  ax1.set_ylabel(rate)\n",
        "  ax1.set_xlabel('reviewLength')\n",
        "  \n",
        "  k = gaussian_kde(np.vstack([x, y]))\n",
        "  xi, yi = np.mgrid[x.min():x.max():x.size**0.5*1j,y.min():y.max():y.size**0.5*1j]\n",
        "  zi = k(np.vstack([xi.flatten(), yi.flatten()]))\n",
        "  cmap = sns.cubehelix_palette(light=1, as_cmap=True)\n",
        "\n",
        "  ax2.contourf(xi, yi, np.log10(zi.reshape(xi.shape)), cmap=cmap)\n",
        "\n",
        "  ax2.set_xlim(x.min(), x.max())\n",
        "  ax2.set_ylim(y.min(), y.max())\n",
        "\n",
        "\n",
        "  ax2.set_xlabel('reviewLength')\n",
        "  ax2.set_ylabel(rate)\n",
        "\n",
        "  i+=1"
      ],
      "execution_count": 132,
      "outputs": [
        {
          "output_type": "display_data",
          "data": {
            "image/png": "[encoded data removed]",
            "text/plain": [
              "<Figure size 1152x360 with 2 Axes>"
            ]
          },
          "metadata": {
            "tags": []
          }
        },
        {
          "output_type": "display_data",
          "data": {
            "image/png": "[encoded data removed]",
            "text/plain": [
              "<Figure size 1152x360 with 2 Axes>"
            ]
          },
          "metadata": {
            "tags": []
          }
        }
      ]
    },
    {
      "cell_type": "markdown",
      "metadata": {
        "id": "6Cu5JCsZWqAA",
        "colab_type": "text"
      },
      "source": [
        "It can be seen that the longer a review is , the more likely it has a good vader score, while in the ground truth, good reviews tend to have less word. This could be because a very long review could have many words that get the vader score higher."
      ]
    },
    {
      "cell_type": "markdown",
      "metadata": {
        "id": "N2IdUlH0WqjM",
        "colab_type": "text"
      },
      "source": [
        "####(c)"
      ]
    },
    {
      "cell_type": "code",
      "metadata": {
        "id": "sJyncHnXaMtw",
        "colab_type": "code",
        "colab": {}
      },
      "source": [
        "hotelMeanScore['reviewCount'] = hotelDf.hotelName.value_counts().values"
      ],
      "execution_count": 0,
      "outputs": []
    },
    {
      "cell_type": "code",
      "metadata": {
        "id": "Ls5lOorvUr69",
        "colab_type": "code",
        "outputId": "71dad1d6-fd9b-48a7-8e24-8164ec61c870",
        "colab": {
          "base_uri": "https://localhost:8080/",
          "height": 652
        }
      },
      "source": [
        "i=1\n",
        "for rate in ['ratingScore', 'vader']:\n",
        "  y = hotelMeanScore[rate].values\n",
        "  x = hotelMeanScore['reviewCount'].values\n",
        "  fig = plt.figure(i,figsize=(16,5))\n",
        "  ax1 = fig.add_subplot(121)\n",
        "  ax2 = fig.add_subplot(122)\n",
        "\n",
        "  ax1.plot(x, y,\"o\")\n",
        "  ax1.set_ylabel(rate)\n",
        "  ax1.set_xlabel('reviewCount')\n",
        "  \n",
        "  k = gaussian_kde(np.vstack([x, y]))\n",
        "  xi, yi = np.mgrid[x.min():x.max():x.size**0.5*1j,y.min():y.max():y.size**0.5*1j]\n",
        "  zi = k(np.vstack([xi.flatten(), yi.flatten()]))\n",
        "  cmap = sns.cubehelix_palette(light=1, as_cmap=True)\n",
        "\n",
        "  ax2.contourf(xi, yi, np.log10(zi.reshape(xi.shape)), cmap=cmap)\n",
        "\n",
        "  ax2.set_xlim(x.min(), x.max())\n",
        "  ax2.set_ylim(y.min(), y.max())\n",
        "\n",
        "\n",
        "  ax2.set_xlabel('reviewCount')\n",
        "  ax2.set_ylabel(rate)\n",
        "\n",
        "  i+=1"
      ],
      "execution_count": 134,
      "outputs": [
        {
          "output_type": "display_data",
          "data": {
            "image/png": "[encoded data removed]",
            "text/plain": [
              "<Figure size 1152x360 with 2 Axes>"
            ]
          },
          "metadata": {
            "tags": []
          }
        },
        {
          "output_type": "display_data",
          "data": {
            "image/png": "[encoded data removed]",
            "text/plain": [
              "<Figure size 1152x360 with 2 Axes>"
            ]
          },
          "metadata": {
            "tags": []
          }
        }
      ]
    },
    {
      "cell_type": "markdown",
      "metadata": {
        "id": "zW-XtrM1cbrS",
        "colab_type": "text"
      },
      "source": [
        "High review count could result in a wide range of rating and vader scores, but low review count has very high correlation with high rating and vader scores. Given the hotels with avgerage of 5 stars have been filtered out during data preprocessing. This could be because some not very big hotels provide very good service with personal touch."
      ]
    }
  ]
}