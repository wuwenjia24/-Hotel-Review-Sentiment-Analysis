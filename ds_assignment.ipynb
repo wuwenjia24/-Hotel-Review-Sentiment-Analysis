{
  "nbformat": 4,
  "nbformat_minor": 0,
  "metadata": {
    "kernelspec": {
      "display_name": "Python 3",
      "language": "python",
      "name": "python3"
    },
    "language_info": {
      "codemirror_mode": {
        "name": "ipython",
        "version": 3
      },
      "file_extension": ".py",
      "mimetype": "text/x-python",
      "name": "python",
      "nbconvert_exporter": "python",
      "pygments_lexer": "ipython3",
      "version": "3.5.2"
    },
    "colab": {
      "name": "ds-assignment.ipynb",
      "provenance": []
    }
  },
  "cells": [
    {
      "cell_type": "markdown",
      "metadata": {
        "id": "NHlmc-vA1mG_",
        "colab_type": "text"
      },
      "source": [
        "# Oops... Nothing Here..  So, you are on your own this time."
      ]
    },
    {
      "cell_type": "markdown",
      "metadata": {
        "id": "IuW5JdJqC5nu",
        "colab_type": "text"
      },
      "source": [
        "# Data "
      ]
    },
    {
      "cell_type": "code",
      "metadata": {
        "id": "3rlLEXArDM8z",
        "colab_type": "code",
        "colab": {
          "base_uri": "https://localhost:8080/",
          "height": 34
        },
        "outputId": "3ab257d3-1fff-45ff-a9f4-bf177e03f359"
      },
      "source": [
        "!pip install wget\n",
        "import wget"
      ],
      "execution_count": 3,
      "outputs": [
        {
          "output_type": "stream",
          "text": [
            "Requirement already satisfied: wget in /usr/local/lib/python3.6/dist-packages (3.2)\n"
          ],
          "name": "stdout"
        }
      ]
    },
    {
      "cell_type": "code",
      "metadata": {
        "id": "-dG3khHFCvZR",
        "colab_type": "code",
        "colab": {
          "base_uri": "https://localhost:8080/",
          "height": 153
        },
        "outputId": "89895413-dca0-43a0-8fcb-7302e8e4ce00"
      },
      "source": [
        "wget.download(\"https://github.com/MIE451-1513-2019/course-datasets/raw/master/reviews.zip\")\n",
        "!unzip reviews.zip"
      ],
      "execution_count": 4,
      "outputs": [
        {
          "output_type": "stream",
          "text": [
            "Archive:  reviews.zip\n",
            "  inflating: reviews.csv             \n",
            "  inflating: reviews2.csv            \n",
            "  inflating: reviews3.csv            \n",
            "  inflating: reviews4.csv            \n",
            "  inflating: reviews5.csv            \n",
            "  inflating: reviews6.csv            \n",
            "  inflating: reviews7.csv            \n"
          ],
          "name": "stdout"
        }
      ]
    },
    {
      "cell_type": "code",
      "metadata": {
        "id": "lxVLHB9V1mHF",
        "colab_type": "code",
        "colab": {}
      },
      "source": [
        "def submission():\n",
        "    \"\"\"remove this function before submission\n",
        "    \"\"\"\n",
        "    assert False, \"I didn't submit assignment on time!\""
      ],
      "execution_count": 0,
      "outputs": []
    },
    {
      "cell_type": "code",
      "metadata": {
        "id": "V3O5jD2-1mHn",
        "colab_type": "code",
        "colab": {}
      },
      "source": [
        "submission()"
      ],
      "execution_count": 0,
      "outputs": []
    },
    {
      "cell_type": "code",
      "metadata": {
        "id": "lQX7NIri1mHq",
        "colab_type": "code",
        "colab": {}
      },
      "source": [
        ""
      ],
      "execution_count": 0,
      "outputs": []
    }
  ]
}